{
  "cells": [
    {
      "cell_type": "markdown",
      "metadata": {
        "id": "4xwnWyoZ2bVL"
      },
      "source": [
        "#Intro to Python using S&P Data"
      ]
    },
    {
      "cell_type": "markdown",
      "metadata": {
        "id": "kgDDpbxn66tt"
      },
      "source": [
        "Welcome to MISSA X FS X AMI Collab! Today we'll be teaching you the basics of Python and how to visuzlize the S&P.\n",
        "Led by: Jade Eng"
      ]
    },
    {
      "cell_type": "markdown",
      "metadata": {
        "id": "_ReJL7ex2eSy"
      },
      "source": [
        "#import Libraries"
      ]
    },
    {
      "cell_type": "markdown",
      "metadata": {
        "id": "9ponMqOT7jzP"
      },
      "source": [
        "Install yfinance and the yfinance fixed version. Yfinance is an open source library that helps users access financial data easily. Yfinance fix is required because there are certain parts of yfinance that do not work without it. "
      ]
    },
    {
      "cell_type": "code",
      "execution_count": 1,
      "metadata": {
        "id": "v--F3nCc2Zbg"
      },
      "outputs": [
        {
          "name": "stdout",
          "output_type": "stream",
          "text": [
            "Note: you may need to restart the kernel to use updated packages.\n"
          ]
        }
      ],
      "source": [
        "%pip install -q yfinance"
      ]
    },
    {
      "cell_type": "code",
      "execution_count": 2,
      "metadata": {
        "colab": {
          "base_uri": "https://localhost:8080/"
        },
        "id": "S4Opvd7j4lmX",
        "outputId": "358e8daf-2a35-4b5b-b31f-4457f7acd9cf"
      },
      "outputs": [
        {
          "name": "stdout",
          "output_type": "stream",
          "text": [
            "Collecting fix_yahoo_finance\n",
            "  Downloading fix-yahoo-finance-0.1.37.tar.gz (6.3 kB)\n",
            "  Preparing metadata (setup.py): started\n",
            "  Preparing metadata (setup.py): finished with status 'done'\n",
            "Requirement already satisfied: yfinance in c:\\users\\mjdel\\anaconda3\\lib\\site-packages (from fix_yahoo_finance) (0.2.31)\n",
            "Requirement already satisfied: pandas>=1.3.0 in c:\\users\\mjdel\\anaconda3\\lib\\site-packages (from yfinance->fix_yahoo_finance) (1.5.3)\n",
            "Requirement already satisfied: numpy>=1.16.5 in c:\\users\\mjdel\\anaconda3\\lib\\site-packages (from yfinance->fix_yahoo_finance) (1.24.3)\n",
            "Requirement already satisfied: requests>=2.31 in c:\\users\\mjdel\\anaconda3\\lib\\site-packages (from yfinance->fix_yahoo_finance) (2.31.0)\n",
            "Requirement already satisfied: multitasking>=0.0.7 in c:\\users\\mjdel\\anaconda3\\lib\\site-packages (from yfinance->fix_yahoo_finance) (0.0.11)\n",
            "Requirement already satisfied: lxml>=4.9.1 in c:\\users\\mjdel\\anaconda3\\lib\\site-packages (from yfinance->fix_yahoo_finance) (4.9.2)\n",
            "Requirement already satisfied: appdirs>=1.4.4 in c:\\users\\mjdel\\anaconda3\\lib\\site-packages (from yfinance->fix_yahoo_finance) (1.4.4)\n",
            "Requirement already satisfied: pytz>=2022.5 in c:\\users\\mjdel\\anaconda3\\lib\\site-packages (from yfinance->fix_yahoo_finance) (2022.7)\n",
            "Requirement already satisfied: frozendict>=2.3.4 in c:\\users\\mjdel\\anaconda3\\lib\\site-packages (from yfinance->fix_yahoo_finance) (2.3.8)\n",
            "Requirement already satisfied: peewee>=3.16.2 in c:\\users\\mjdel\\anaconda3\\lib\\site-packages (from yfinance->fix_yahoo_finance) (3.17.0)\n",
            "Requirement already satisfied: beautifulsoup4>=4.11.1 in c:\\users\\mjdel\\anaconda3\\lib\\site-packages (from yfinance->fix_yahoo_finance) (4.12.2)\n",
            "Requirement already satisfied: html5lib>=1.1 in c:\\users\\mjdel\\anaconda3\\lib\\site-packages (from yfinance->fix_yahoo_finance) (1.1)\n",
            "Requirement already satisfied: soupsieve>1.2 in c:\\users\\mjdel\\anaconda3\\lib\\site-packages (from beautifulsoup4>=4.11.1->yfinance->fix_yahoo_finance) (2.4)\n",
            "Requirement already satisfied: six>=1.9 in c:\\users\\mjdel\\anaconda3\\lib\\site-packages (from html5lib>=1.1->yfinance->fix_yahoo_finance) (1.16.0)\n",
            "Requirement already satisfied: webencodings in c:\\users\\mjdel\\anaconda3\\lib\\site-packages (from html5lib>=1.1->yfinance->fix_yahoo_finance) (0.5.1)\n",
            "Requirement already satisfied: python-dateutil>=2.8.1 in c:\\users\\mjdel\\anaconda3\\lib\\site-packages (from pandas>=1.3.0->yfinance->fix_yahoo_finance) (2.8.2)\n",
            "Requirement already satisfied: charset-normalizer<4,>=2 in c:\\users\\mjdel\\anaconda3\\lib\\site-packages (from requests>=2.31->yfinance->fix_yahoo_finance) (2.0.4)\n",
            "Requirement already satisfied: idna<4,>=2.5 in c:\\users\\mjdel\\anaconda3\\lib\\site-packages (from requests>=2.31->yfinance->fix_yahoo_finance) (3.4)\n",
            "Requirement already satisfied: urllib3<3,>=1.21.1 in c:\\users\\mjdel\\anaconda3\\lib\\site-packages (from requests>=2.31->yfinance->fix_yahoo_finance) (1.26.16)\n",
            "Requirement already satisfied: certifi>=2017.4.17 in c:\\users\\mjdel\\anaconda3\\lib\\site-packages (from requests>=2.31->yfinance->fix_yahoo_finance) (2023.7.22)\n",
            "Building wheels for collected packages: fix_yahoo_finance\n",
            "  Building wheel for fix_yahoo_finance (setup.py): started\n",
            "  Building wheel for fix_yahoo_finance (setup.py): finished with status 'done'\n",
            "  Created wheel for fix_yahoo_finance: filename=fix_yahoo_finance-0.1.37-py3-none-any.whl size=7089 sha256=adcd3206639bff25f9c2efbf8314c46152cb1380779905e55c2df4aed02ae716\n",
            "  Stored in directory: c:\\users\\mjdel\\appdata\\local\\pip\\cache\\wheels\\6d\\7e\\b6\\6d0901b57b82e1c50b8e0527c664be867df7411cc2acb6cfea\n",
            "Successfully built fix_yahoo_finance\n",
            "Installing collected packages: fix_yahoo_finance\n",
            "Successfully installed fix_yahoo_finance-0.1.37\n",
            "Note: you may need to restart the kernel to use updated packages.\n"
          ]
        }
      ],
      "source": [
        "%pip install fix_yahoo_finance"
      ]
    },
    {
      "cell_type": "markdown",
      "metadata": {
        "id": "8QpZfzpl73Wh"
      },
      "source": [
        "Here we're importing libraries. Libraries like the one below make Python easier to use. While you can hard code solutions, libraries allow us to call code that others have already developed in order to do what we want with less lines of code.  Linked below are documentation of the libraries that we're using. <br>\n",
        "pandas: used for working with relationsal data/databases https://pandas.pydata.org/docs/user_guide/index.html#user-guide <br>\n",
        "yfinance: access financial data on yahoo finance. Because Yahoo made some modules unavailable, we also input fix_yahoo_finance <br>\n",
        "pandas_datareader: reads data from sources like Yahoo: https://pandas-datareader.readthedocs.io/en/latest/remote_data.html\n",
        "datetime:  <br>\n",
        "matplotlib: generates visualizations/plots: https://pandas.pydata.org/docs/getting_started/intro_tutorials/04_plotting.html#min-tut-04-plotting <br>"
      ]
    },
    {
      "cell_type": "code",
      "execution_count": 3,
      "metadata": {
        "id": "xRDPq6cP2f2q"
      },
      "outputs": [
        {
          "name": "stderr",
          "output_type": "stream",
          "text": [
            "c:\\Users\\mjdel\\anaconda3\\Lib\\site-packages\\fix_yahoo_finance\\__init__.py:0: DeprecationWarning: \n",
            "\n",
            "*** `fix_yahoo_finance` was renamed to `yfinance`. ***\n",
            "Please install and use `yfinance` directly using `pip install yfinance -U`\n",
            "\n",
            "More information: https://github.com/ranaroussi/yfinance\n",
            "\n"
          ]
        }
      ],
      "source": [
        "import pandas as pd\n",
        "import yfinance as yf\n",
        "import fix_yahoo_finance \n",
        "import fix_yahoo_finance as yf2\n",
        "import datetime\n",
        "import matplotlib.pyplot as plt\n"
      ]
    },
    {
      "cell_type": "markdown",
      "metadata": {
        "id": "lZqvXaE78Flw"
      },
      "source": [
        "It's best to use documentation, but if you don't want to easily query what you can do, run the cell below."
      ]
    },
    {
      "cell_type": "code",
      "execution_count": 4,
      "metadata": {
        "colab": {
          "base_uri": "https://localhost:8080/"
        },
        "id": "2Y4tM-3t5MUM",
        "outputId": "0427f228-90be-477c-f328-da3eaeaa0d1f"
      },
      "outputs": [
        {
          "name": "stdout",
          "output_type": "stream",
          "text": [
            "Help on package yfinance:\n",
            "\n",
            "NAME\n",
            "    yfinance\n",
            "\n",
            "DESCRIPTION\n",
            "    # -*- coding: utf-8 -*-\n",
            "    #\n",
            "    # yfinance - market data downloader\n",
            "    # https://github.com/ranaroussi/yfinance\n",
            "    #\n",
            "    # Copyright 2017-2019 Ran Aroussi\n",
            "    #\n",
            "    # Licensed under the Apache License, Version 2.0 (the \"License\");\n",
            "    # you may not use this file except in compliance with the License.\n",
            "    # You may obtain a copy of the License at\n",
            "    #\n",
            "    #     http://www.apache.org/licenses/LICENSE-2.0\n",
            "    #\n",
            "    # Unless required by applicable law or agreed to in writing, software\n",
            "    # distributed under the License is distributed on an \"AS IS\" BASIS,\n",
            "    # WITHOUT WARRANTIES OR CONDITIONS OF ANY KIND, either express or implied.\n",
            "    # See the License for the specific language governing permissions and\n",
            "    # limitations under the License.\n",
            "    #\n",
            "\n",
            "PACKAGE CONTENTS\n",
            "    base\n",
            "    const\n",
            "    data\n",
            "    exceptions\n",
            "    multi\n",
            "    scrapers (package)\n",
            "    shared\n",
            "    ticker\n",
            "    tickers\n",
            "    utils\n",
            "    version\n",
            "\n",
            "CLASSES\n",
            "    builtins.object\n",
            "        yfinance.tickers.Tickers\n",
            "    yfinance.base.TickerBase(builtins.object)\n",
            "        yfinance.ticker.Ticker\n",
            "    \n",
            "    class Ticker(yfinance.base.TickerBase)\n",
            "     |  Ticker(ticker, session=None)\n",
            "     |  \n",
            "     |  Method resolution order:\n",
            "     |      Ticker\n",
            "     |      yfinance.base.TickerBase\n",
            "     |      builtins.object\n",
            "     |  \n",
            "     |  Methods defined here:\n",
            "     |  \n",
            "     |  __init__(self, ticker, session=None)\n",
            "     |      Initialize self.  See help(type(self)) for accurate signature.\n",
            "     |  \n",
            "     |  __repr__(self)\n",
            "     |      Return repr(self).\n",
            "     |  \n",
            "     |  option_chain(self, date=None, proxy=None, tz=None)\n",
            "     |  \n",
            "     |  ----------------------------------------------------------------------\n",
            "     |  Readonly properties defined here:\n",
            "     |  \n",
            "     |  actions\n",
            "     |  \n",
            "     |  analyst_price_target\n",
            "     |  \n",
            "     |  balance_sheet\n",
            "     |  \n",
            "     |  balancesheet\n",
            "     |  \n",
            "     |  calendar\n",
            "     |  \n",
            "     |  capital_gains\n",
            "     |  \n",
            "     |  cash_flow\n",
            "     |  \n",
            "     |  cashflow\n",
            "     |  \n",
            "     |  dividends\n",
            "     |  \n",
            "     |  earnings\n",
            "     |  \n",
            "     |  earnings_dates\n",
            "     |  \n",
            "     |  earnings_forecasts\n",
            "     |  \n",
            "     |  earnings_trend\n",
            "     |  \n",
            "     |  fast_info\n",
            "     |  \n",
            "     |  financials\n",
            "     |  \n",
            "     |  history_metadata\n",
            "     |  \n",
            "     |  income_stmt\n",
            "     |  \n",
            "     |  incomestmt\n",
            "     |  \n",
            "     |  info\n",
            "     |  \n",
            "     |  institutional_holders\n",
            "     |  \n",
            "     |  isin\n",
            "     |  \n",
            "     |  major_holders\n",
            "     |  \n",
            "     |  mutualfund_holders\n",
            "     |  \n",
            "     |  news\n",
            "     |  \n",
            "     |  options\n",
            "     |  \n",
            "     |  quarterly_balance_sheet\n",
            "     |  \n",
            "     |  quarterly_balancesheet\n",
            "     |  \n",
            "     |  quarterly_cash_flow\n",
            "     |  \n",
            "     |  quarterly_cashflow\n",
            "     |  \n",
            "     |  quarterly_earnings\n",
            "     |  \n",
            "     |  quarterly_financials\n",
            "     |  \n",
            "     |  quarterly_income_stmt\n",
            "     |  \n",
            "     |  quarterly_incomestmt\n",
            "     |  \n",
            "     |  recommendations\n",
            "     |  \n",
            "     |  recommendations_summary\n",
            "     |  \n",
            "     |  revenue_forecasts\n",
            "     |  \n",
            "     |  shares\n",
            "     |  \n",
            "     |  splits\n",
            "     |  \n",
            "     |  sustainability\n",
            "     |  \n",
            "     |  trend_details\n",
            "     |  \n",
            "     |  ----------------------------------------------------------------------\n",
            "     |  Methods inherited from yfinance.base.TickerBase:\n",
            "     |  \n",
            "     |  get_actions(self, proxy=None)\n",
            "     |  \n",
            "     |  get_analyst_price_target(self, proxy=None, as_dict=False)\n",
            "     |  \n",
            "     |  get_balance_sheet(self, proxy=None, as_dict=False, pretty=False, freq='yearly')\n",
            "     |      :Parameters:\n",
            "     |          as_dict: bool\n",
            "     |              Return table as Python dict\n",
            "     |              Default is False\n",
            "     |          pretty: bool\n",
            "     |              Format row names nicely for readability\n",
            "     |              Default is False\n",
            "     |          freq: str\n",
            "     |              \"yearly\" or \"quarterly\"\n",
            "     |              Default is \"yearly\"\n",
            "     |          proxy: str\n",
            "     |              Optional. Proxy server URL scheme\n",
            "     |              Default is None\n",
            "     |  \n",
            "     |  get_balancesheet(self, proxy=None, as_dict=False, pretty=False, freq='yearly')\n",
            "     |  \n",
            "     |  get_calendar(self, proxy=None, as_dict=False)\n",
            "     |  \n",
            "     |  get_capital_gains(self, proxy=None)\n",
            "     |  \n",
            "     |  get_cash_flow(self, proxy=None, as_dict=False, pretty=False, freq='yearly')\n",
            "     |      :Parameters:\n",
            "     |          as_dict: bool\n",
            "     |              Return table as Python dict\n",
            "     |              Default is False\n",
            "     |          pretty: bool\n",
            "     |              Format row names nicely for readability\n",
            "     |              Default is False\n",
            "     |          freq: str\n",
            "     |              \"yearly\" or \"quarterly\"\n",
            "     |              Default is \"yearly\"\n",
            "     |          proxy: str\n",
            "     |              Optional. Proxy server URL scheme\n",
            "     |              Default is None\n",
            "     |  \n",
            "     |  get_cashflow(self, proxy=None, as_dict=False, pretty=False, freq='yearly')\n",
            "     |  \n",
            "     |  get_dividends(self, proxy=None)\n",
            "     |  \n",
            "     |  get_earnings(self, proxy=None, as_dict=False, freq='yearly')\n",
            "     |      :Parameters:\n",
            "     |          as_dict: bool\n",
            "     |              Return table as Python dict\n",
            "     |              Default is False\n",
            "     |          freq: str\n",
            "     |              \"yearly\" or \"quarterly\"\n",
            "     |              Default is \"yearly\"\n",
            "     |          proxy: str\n",
            "     |              Optional. Proxy server URL scheme\n",
            "     |              Default is None\n",
            "     |  \n",
            "     |  get_earnings_dates = wrapper(*args, **kwargs)\n",
            "     |  \n",
            "     |  get_earnings_forecast(self, proxy=None, as_dict=False)\n",
            "     |  \n",
            "     |  get_earnings_trend(self, proxy=None, as_dict=False)\n",
            "     |  \n",
            "     |  get_fast_info(self, proxy=None)\n",
            "     |  \n",
            "     |  get_financials(self, proxy=None, as_dict=False, pretty=False, freq='yearly')\n",
            "     |  \n",
            "     |  get_history_metadata(self, proxy=None) -> dict\n",
            "     |  \n",
            "     |  get_income_stmt(self, proxy=None, as_dict=False, pretty=False, freq='yearly')\n",
            "     |      :Parameters:\n",
            "     |          as_dict: bool\n",
            "     |              Return table as Python dict\n",
            "     |              Default is False\n",
            "     |          pretty: bool\n",
            "     |              Format row names nicely for readability\n",
            "     |              Default is False\n",
            "     |          freq: str\n",
            "     |              \"yearly\" or \"quarterly\"\n",
            "     |              Default is \"yearly\"\n",
            "     |          proxy: str\n",
            "     |              Optional. Proxy server URL scheme\n",
            "     |              Default is None\n",
            "     |  \n",
            "     |  get_incomestmt(self, proxy=None, as_dict=False, pretty=False, freq='yearly')\n",
            "     |  \n",
            "     |  get_info(self, proxy=None) -> dict\n",
            "     |  \n",
            "     |  get_institutional_holders(self, proxy=None, as_dict=False)\n",
            "     |  \n",
            "     |  get_isin(self, proxy=None) -> Optional[str]\n",
            "     |  \n",
            "     |  get_major_holders(self, proxy=None, as_dict=False)\n",
            "     |  \n",
            "     |  get_mutualfund_holders(self, proxy=None, as_dict=False)\n",
            "     |  \n",
            "     |  get_news(self, proxy=None)\n",
            "     |  \n",
            "     |  get_recommendations(self, proxy=None, as_dict=False)\n",
            "     |  \n",
            "     |  get_recommendations_summary(self, proxy=None, as_dict=False)\n",
            "     |  \n",
            "     |  get_rev_forecast(self, proxy=None, as_dict=False)\n",
            "     |  \n",
            "     |  get_shares(self, proxy=None, as_dict=False)\n",
            "     |  \n",
            "     |  get_shares_full = wrapper(*args, **kwargs)\n",
            "     |  \n",
            "     |  get_splits(self, proxy=None)\n",
            "     |  \n",
            "     |  get_sustainability(self, proxy=None, as_dict=False)\n",
            "     |  \n",
            "     |  get_trend_details(self, proxy=None, as_dict=False)\n",
            "     |  \n",
            "     |  history = wrapper(*args, **kwargs)\n",
            "     |  \n",
            "     |  ----------------------------------------------------------------------\n",
            "     |  Readonly properties inherited from yfinance.base.TickerBase:\n",
            "     |  \n",
            "     |  basic_info\n",
            "     |  \n",
            "     |  ----------------------------------------------------------------------\n",
            "     |  Data descriptors inherited from yfinance.base.TickerBase:\n",
            "     |  \n",
            "     |  __dict__\n",
            "     |      dictionary for instance variables (if defined)\n",
            "     |  \n",
            "     |  __weakref__\n",
            "     |      list of weak references to the object (if defined)\n",
            "    \n",
            "    class Tickers(builtins.object)\n",
            "     |  Tickers(tickers, session=None)\n",
            "     |  \n",
            "     |  Methods defined here:\n",
            "     |  \n",
            "     |  __init__(self, tickers, session=None)\n",
            "     |      Initialize self.  See help(type(self)) for accurate signature.\n",
            "     |  \n",
            "     |  __repr__(self)\n",
            "     |      Return repr(self).\n",
            "     |  \n",
            "     |  download(self, period='1mo', interval='1d', start=None, end=None, prepost=False, actions=True, auto_adjust=True, repair=False, proxy=None, threads=True, group_by='column', progress=True, timeout=10, **kwargs)\n",
            "     |  \n",
            "     |  history(self, period='1mo', interval='1d', start=None, end=None, prepost=False, actions=True, auto_adjust=True, repair=False, proxy=None, threads=True, group_by='column', progress=True, timeout=10, **kwargs)\n",
            "     |  \n",
            "     |  news(self)\n",
            "     |  \n",
            "     |  ----------------------------------------------------------------------\n",
            "     |  Data descriptors defined here:\n",
            "     |  \n",
            "     |  __dict__\n",
            "     |      dictionary for instance variables (if defined)\n",
            "     |  \n",
            "     |  __weakref__\n",
            "     |      list of weak references to the object (if defined)\n",
            "\n",
            "FUNCTIONS\n",
            "    download = wrapper(*args, **kwargs)\n",
            "    \n",
            "    enable_debug_mode()\n",
            "    \n",
            "    pdr_override()\n",
            "        make pandas datareader optional\n",
            "        otherwise can be called via fix_yahoo_finance.download(...)\n",
            "    \n",
            "    set_tz_cache_location(cache_dir: str)\n",
            "        Sets the path to create the \"py-yfinance\" cache folder in.\n",
            "        Useful if the default folder returned by \"appdir.user_cache_dir()\" is not writable.\n",
            "        Must be called before cache is used (that is, before fetching tickers).\n",
            "        :param cache_dir: Path to use for caches\n",
            "        :return: None\n",
            "\n",
            "DATA\n",
            "    __all__ = ['download', 'Ticker', 'Tickers', 'pdr_override', 'enable_de...\n",
            "\n",
            "VERSION\n",
            "    0.2.31\n",
            "\n",
            "AUTHOR\n",
            "    Ran Aroussi\n",
            "\n",
            "FILE\n",
            "    c:\\users\\mjdel\\anaconda3\\lib\\site-packages\\yfinance\\__init__.py\n",
            "\n",
            "\n"
          ]
        }
      ],
      "source": [
        "help(yf)"
      ]
    },
    {
      "cell_type": "markdown",
      "metadata": {
        "id": "PbVJiR402gHt"
      },
      "source": [
        "#Downloading Data"
      ]
    },
    {
      "cell_type": "markdown",
      "metadata": {
        "id": "7-IAVn742lLl"
      },
      "source": [
        "#S&P Wiki"
      ]
    },
    {
      "cell_type": "markdown",
      "metadata": {
        "id": "Zh8a3zij-WAq"
      },
      "source": [
        "What are your options for loading dataframes? <br>\n",
        "Downloading CSV/ Excel files, webscraping, using libraries. We'll demonstrate the latter two today. \n",
        "<br>\n",
        "Where can you find relevant CSV files? Kaggle: https://www.kaggle.com/. You must login with a google account in order to download files\n",
        "<br>\n",
        "Here we scrape this wikipedia page for the companies in the S&P. Web scraping can become more advanced and turns into another form called web-crawling where it searches the web for multiple locations. \n"
      ]
    },
    {
      "cell_type": "markdown",
      "metadata": {
        "id": "rHN6RlGf_uFp"
      },
      "source": [
        "To start this workshop, we'll set a wikipedia link of 500 companies in the S&P to a variable. You can name the variable whatever you'd like.\n",
        "<br>\n",
        "Next we'll use pandas (pd) to read the html file of the wikipedia page and set it to a variable. After we set it to a variable, we'll call the variable to see what it looks like. "
      ]
    },
    {
      "cell_type": "code",
      "execution_count": 5,
      "metadata": {
        "colab": {
          "base_uri": "https://localhost:8080/"
        },
        "id": "CqofZ0u55hIk",
        "outputId": "708f84cc-114b-461b-ac38-98eb909c503d"
      },
      "outputs": [
        {
          "data": {
            "text/plain": [
              "[    Symbol              Security             GICS Sector  \\\n",
              " 0      MMM                    3M             Industrials   \n",
              " 1      AOS           A. O. Smith             Industrials   \n",
              " 2      ABT                Abbott             Health Care   \n",
              " 3     ABBV                AbbVie             Health Care   \n",
              " 4      ACN             Accenture  Information Technology   \n",
              " ..     ...                   ...                     ...   \n",
              " 498    YUM           Yum! Brands  Consumer Discretionary   \n",
              " 499   ZBRA    Zebra Technologies  Information Technology   \n",
              " 500    ZBH         Zimmer Biomet             Health Care   \n",
              " 501   ZION  Zions Bancorporation              Financials   \n",
              " 502    ZTS                Zoetis             Health Care   \n",
              " \n",
              "                       GICS Sub-Industry    Headquarters Location  Date added  \\\n",
              " 0              Industrial Conglomerates    Saint Paul, Minnesota  1957-03-04   \n",
              " 1                     Building Products     Milwaukee, Wisconsin  2017-07-26   \n",
              " 2                 Health Care Equipment  North Chicago, Illinois  1957-03-04   \n",
              " 3                       Pharmaceuticals  North Chicago, Illinois  2012-12-31   \n",
              " 4        IT Consulting & Other Services          Dublin, Ireland  2011-07-06   \n",
              " ..                                  ...                      ...         ...   \n",
              " 498                         Restaurants     Louisville, Kentucky  1997-10-06   \n",
              " 499  Electronic Equipment & Instruments   Lincolnshire, Illinois  2019-12-23   \n",
              " 500               Health Care Equipment          Warsaw, Indiana  2001-08-07   \n",
              " 501                      Regional Banks     Salt Lake City, Utah  2001-06-22   \n",
              " 502                     Pharmaceuticals   Parsippany, New Jersey  2013-06-21   \n",
              " \n",
              "          CIK      Founded  \n",
              " 0      66740         1902  \n",
              " 1      91142         1916  \n",
              " 2       1800         1888  \n",
              " 3    1551152  2013 (1888)  \n",
              " 4    1467373         1989  \n",
              " ..       ...          ...  \n",
              " 498  1041061         1997  \n",
              " 499   877212         1969  \n",
              " 500  1136869         1927  \n",
              " 501   109380         1873  \n",
              " 502  1555280         1952  \n",
              " \n",
              " [503 rows x 8 columns],\n",
              "                    Date  Added                                Removed  \\\n",
              "                    Date Ticker                       Security  Ticker   \n",
              " 0      October 18, 2023   HUBB                        Hubbell     OGN   \n",
              " 1      October 18, 2023   LULU            Lululemon Athletica    ATVI   \n",
              " 2       October 3, 2023    NaN                            NaN     DXC   \n",
              " 3       October 2, 2023   VLTO                        Veralto     NaN   \n",
              " 4    September 18, 2023     BX                     Blackstone     LNC   \n",
              " ..                  ...    ...                            ...     ...   \n",
              " 329        June 9, 1999    WLP                      Wellpoint     HPH   \n",
              " 330   December 11, 1998    FSR                        Firstar     LDW   \n",
              " 331   December 11, 1998    CCL                 Carnival Corp.     GRN   \n",
              " 332   December 11, 1998   CPWR                      Compuware     SUN   \n",
              " 333       June 17, 1997    CCI  Countrywide Credit Industries     USL   \n",
              " \n",
              "                                \\\n",
              "                      Security   \n",
              " 0               Organon & Co.   \n",
              " 1         Activision Blizzard   \n",
              " 2              DXC Technology   \n",
              " 3                         NaN   \n",
              " 4       Lincoln National Corp   \n",
              " ..                        ...   \n",
              " 329  Harnischfeger Industries   \n",
              " 330                     Amoco   \n",
              " 331                General Re   \n",
              " 332                SunAmerica   \n",
              " 333                    USLife   \n",
              " \n",
              "                                                 Reason  \n",
              "                                                 Reason  \n",
              " 0                     Market capitalization change.[4]  \n",
              " 1    S&P 500 and S&P 100 constituent Microsoft acqu...  \n",
              " 2                     Market capitalization change.[5]  \n",
              " 3    S&P 500 and S&P 100 constituent Danaher Corpor...  \n",
              " 4                     Market capitalization change.[6]  \n",
              " ..                                                 ...  \n",
              " 329           Harnischfeger filed for bankruptcy.[251]  \n",
              " 330            British Petroleum purchased Amoco.[252]  \n",
              " 331      Berkshire Hathaway purchased General Re.[252]  \n",
              " 332                     AIG purchased SunAmerica.[252]  \n",
              " 333                          AIG acquired USLife.[253]  \n",
              " \n",
              " [334 rows x 6 columns]]"
            ]
          },
          "execution_count": 5,
          "metadata": {},
          "output_type": "execute_result"
        }
      ],
      "source": [
        "sp_wiki=\"https://en.wikipedia.org/wiki/List_of_S%26P_500_companies\"\n",
        "df_sp_wiki_list=pd.read_html(sp_wiki)\n",
        "df_sp_wiki_list\n"
      ]
    },
    {
      "cell_type": "markdown",
      "metadata": {
        "id": "pRgGo8KS-uTC"
      },
      "source": [
        "Notice that the form that this returns us isn't very visually pleasing. It has all the information we need, but it is not easily accessible. What we'd like to do instead is turn it into a table that pandas can access so we can better analyze the data. <br>\n",
        "To do so, we'll turn df_sp_wiki_list into a table and then call the first ten columns to see what the result looks like. "
      ]
    },
    {
      "cell_type": "code",
      "execution_count": 6,
      "metadata": {
        "colab": {
          "base_uri": "https://localhost:8080/",
          "height": 363
        },
        "id": "FLXeKg1E6FsK",
        "outputId": "92dba6f2-aa57-4216-e35c-c71a62c2d3ab"
      },
      "outputs": [
        {
          "data": {
            "text/html": [
              "<div>\n",
              "<style scoped>\n",
              "    .dataframe tbody tr th:only-of-type {\n",
              "        vertical-align: middle;\n",
              "    }\n",
              "\n",
              "    .dataframe tbody tr th {\n",
              "        vertical-align: top;\n",
              "    }\n",
              "\n",
              "    .dataframe thead th {\n",
              "        text-align: right;\n",
              "    }\n",
              "</style>\n",
              "<table border=\"1\" class=\"dataframe\">\n",
              "  <thead>\n",
              "    <tr style=\"text-align: right;\">\n",
              "      <th></th>\n",
              "      <th>Symbol</th>\n",
              "      <th>Security</th>\n",
              "      <th>GICS Sector</th>\n",
              "      <th>GICS Sub-Industry</th>\n",
              "      <th>Headquarters Location</th>\n",
              "      <th>Date added</th>\n",
              "      <th>CIK</th>\n",
              "      <th>Founded</th>\n",
              "    </tr>\n",
              "  </thead>\n",
              "  <tbody>\n",
              "    <tr>\n",
              "      <th>0</th>\n",
              "      <td>MMM</td>\n",
              "      <td>3M</td>\n",
              "      <td>Industrials</td>\n",
              "      <td>Industrial Conglomerates</td>\n",
              "      <td>Saint Paul, Minnesota</td>\n",
              "      <td>1957-03-04</td>\n",
              "      <td>66740</td>\n",
              "      <td>1902</td>\n",
              "    </tr>\n",
              "    <tr>\n",
              "      <th>1</th>\n",
              "      <td>AOS</td>\n",
              "      <td>A. O. Smith</td>\n",
              "      <td>Industrials</td>\n",
              "      <td>Building Products</td>\n",
              "      <td>Milwaukee, Wisconsin</td>\n",
              "      <td>2017-07-26</td>\n",
              "      <td>91142</td>\n",
              "      <td>1916</td>\n",
              "    </tr>\n",
              "    <tr>\n",
              "      <th>2</th>\n",
              "      <td>ABT</td>\n",
              "      <td>Abbott</td>\n",
              "      <td>Health Care</td>\n",
              "      <td>Health Care Equipment</td>\n",
              "      <td>North Chicago, Illinois</td>\n",
              "      <td>1957-03-04</td>\n",
              "      <td>1800</td>\n",
              "      <td>1888</td>\n",
              "    </tr>\n",
              "    <tr>\n",
              "      <th>3</th>\n",
              "      <td>ABBV</td>\n",
              "      <td>AbbVie</td>\n",
              "      <td>Health Care</td>\n",
              "      <td>Pharmaceuticals</td>\n",
              "      <td>North Chicago, Illinois</td>\n",
              "      <td>2012-12-31</td>\n",
              "      <td>1551152</td>\n",
              "      <td>2013 (1888)</td>\n",
              "    </tr>\n",
              "    <tr>\n",
              "      <th>4</th>\n",
              "      <td>ACN</td>\n",
              "      <td>Accenture</td>\n",
              "      <td>Information Technology</td>\n",
              "      <td>IT Consulting &amp; Other Services</td>\n",
              "      <td>Dublin, Ireland</td>\n",
              "      <td>2011-07-06</td>\n",
              "      <td>1467373</td>\n",
              "      <td>1989</td>\n",
              "    </tr>\n",
              "    <tr>\n",
              "      <th>5</th>\n",
              "      <td>ADM</td>\n",
              "      <td>ADM</td>\n",
              "      <td>Consumer Staples</td>\n",
              "      <td>Agricultural Products &amp; Services</td>\n",
              "      <td>Chicago, Illinois</td>\n",
              "      <td>1957-03-04</td>\n",
              "      <td>7084</td>\n",
              "      <td>1902</td>\n",
              "    </tr>\n",
              "    <tr>\n",
              "      <th>6</th>\n",
              "      <td>ADBE</td>\n",
              "      <td>Adobe Inc.</td>\n",
              "      <td>Information Technology</td>\n",
              "      <td>Application Software</td>\n",
              "      <td>San Jose, California</td>\n",
              "      <td>1997-05-05</td>\n",
              "      <td>796343</td>\n",
              "      <td>1982</td>\n",
              "    </tr>\n",
              "    <tr>\n",
              "      <th>7</th>\n",
              "      <td>ADP</td>\n",
              "      <td>ADP</td>\n",
              "      <td>Industrials</td>\n",
              "      <td>Human Resource &amp; Employment Services</td>\n",
              "      <td>Roseland, New Jersey</td>\n",
              "      <td>1981-03-31</td>\n",
              "      <td>8670</td>\n",
              "      <td>1949</td>\n",
              "    </tr>\n",
              "    <tr>\n",
              "      <th>8</th>\n",
              "      <td>AES</td>\n",
              "      <td>AES Corporation</td>\n",
              "      <td>Utilities</td>\n",
              "      <td>Independent Power Producers &amp; Energy Traders</td>\n",
              "      <td>Arlington, Virginia</td>\n",
              "      <td>1998-10-02</td>\n",
              "      <td>874761</td>\n",
              "      <td>1981</td>\n",
              "    </tr>\n",
              "    <tr>\n",
              "      <th>9</th>\n",
              "      <td>AFL</td>\n",
              "      <td>Aflac</td>\n",
              "      <td>Financials</td>\n",
              "      <td>Life &amp; Health Insurance</td>\n",
              "      <td>Columbus, Georgia</td>\n",
              "      <td>1999-05-28</td>\n",
              "      <td>4977</td>\n",
              "      <td>1955</td>\n",
              "    </tr>\n",
              "  </tbody>\n",
              "</table>\n",
              "</div>"
            ],
            "text/plain": [
              "  Symbol         Security             GICS Sector  \\\n",
              "0    MMM               3M             Industrials   \n",
              "1    AOS      A. O. Smith             Industrials   \n",
              "2    ABT           Abbott             Health Care   \n",
              "3   ABBV           AbbVie             Health Care   \n",
              "4    ACN        Accenture  Information Technology   \n",
              "5    ADM              ADM        Consumer Staples   \n",
              "6   ADBE       Adobe Inc.  Information Technology   \n",
              "7    ADP              ADP             Industrials   \n",
              "8    AES  AES Corporation               Utilities   \n",
              "9    AFL            Aflac              Financials   \n",
              "\n",
              "                              GICS Sub-Industry    Headquarters Location  \\\n",
              "0                      Industrial Conglomerates    Saint Paul, Minnesota   \n",
              "1                             Building Products     Milwaukee, Wisconsin   \n",
              "2                         Health Care Equipment  North Chicago, Illinois   \n",
              "3                               Pharmaceuticals  North Chicago, Illinois   \n",
              "4                IT Consulting & Other Services          Dublin, Ireland   \n",
              "5              Agricultural Products & Services        Chicago, Illinois   \n",
              "6                          Application Software     San Jose, California   \n",
              "7          Human Resource & Employment Services     Roseland, New Jersey   \n",
              "8  Independent Power Producers & Energy Traders      Arlington, Virginia   \n",
              "9                       Life & Health Insurance        Columbus, Georgia   \n",
              "\n",
              "   Date added      CIK      Founded  \n",
              "0  1957-03-04    66740         1902  \n",
              "1  2017-07-26    91142         1916  \n",
              "2  1957-03-04     1800         1888  \n",
              "3  2012-12-31  1551152  2013 (1888)  \n",
              "4  2011-07-06  1467373         1989  \n",
              "5  1957-03-04     7084         1902  \n",
              "6  1997-05-05   796343         1982  \n",
              "7  1981-03-31     8670         1949  \n",
              "8  1998-10-02   874761         1981  \n",
              "9  1999-05-28     4977         1955  "
            ]
          },
          "execution_count": 6,
          "metadata": {},
          "output_type": "execute_result"
        }
      ],
      "source": [
        "df_sp_wiki=df_sp_wiki_list[0]\n",
        "df_sp_wiki.head(10)"
      ]
    },
    {
      "cell_type": "markdown",
      "metadata": {
        "id": "-L_tzfiI7HxX"
      },
      "source": [
        "Data types are important as they determine what you can combine together in tables using math etc. Additionally when putting items into a list, array, the objects that are put in must be of the same data type. Similarly, each column in a table must have the same data types. <br>\n",
        "Data Types: integers, floats, characters, strings, arrays, booleans, dates\n",
        "<br>\n",
        "integers: -1, 0, 1, 2 \n",
        "<br> floats: 0.0 -1.3, 4.298 \n",
        "<br> characters: 'c', 'h', 'z'\n",
        "<br> strings: 'hello my name is', 'Welcome to MISSA!', 'Today's date is 10/27. Have a wonderful day!'\n",
        "<br>arrays: int arr[5]= {1, 5, 2018, 9, 3}, int arr[]={}, etc.\n",
        "<br>boolean: True, False \n",
        "<br>dates: 2022-10-27, datetime(2022, 10, 27)"
      ]
    },
    {
      "cell_type": "markdown",
      "metadata": {
        "id": "Auw65PHECk9L"
      },
      "source": [
        "Because this is a scraped file, most of these return 'Object' which tells us little about the actual datatype that's in there. Looking at the table again, it appears as though we can assume most of the columns are strings and since it was put into a table, python may not "
      ]
    },
    {
      "cell_type": "code",
      "execution_count": 7,
      "metadata": {
        "colab": {
          "base_uri": "https://localhost:8080/"
        },
        "id": "8579ekLT6vaz",
        "outputId": "f09fdad4-037a-4969-8254-185220fdd4e5"
      },
      "outputs": [
        {
          "data": {
            "text/plain": [
              "Symbol                   object\n",
              "Security                 object\n",
              "GICS Sector              object\n",
              "GICS Sub-Industry        object\n",
              "Headquarters Location    object\n",
              "Date added               object\n",
              "CIK                       int64\n",
              "Founded                  object\n",
              "dtype: object"
            ]
          },
          "execution_count": 7,
          "metadata": {},
          "output_type": "execute_result"
        }
      ],
      "source": [
        "df_sp_wiki.dtypes"
      ]
    },
    {
      "cell_type": "markdown",
      "metadata": {
        "id": "0ueDGcTXE6lV"
      },
      "source": [
        "What if we just want to return the headers of this table?"
      ]
    },
    {
      "cell_type": "code",
      "execution_count": 8,
      "metadata": {
        "colab": {
          "base_uri": "https://localhost:8080/"
        },
        "id": "7lpj_qbwFSB0",
        "outputId": "17514f5a-c65c-4fc2-ca31-2b0d5d473c35"
      },
      "outputs": [
        {
          "data": {
            "text/plain": [
              "Index(['Symbol', 'Security', 'GICS Sector', 'GICS Sub-Industry',\n",
              "       'Headquarters Location', 'Date added', 'CIK', 'Founded'],\n",
              "      dtype='object')"
            ]
          },
          "execution_count": 8,
          "metadata": {},
          "output_type": "execute_result"
        }
      ],
      "source": [
        "df_sp_wiki.columns"
      ]
    },
    {
      "cell_type": "markdown",
      "metadata": {
        "id": "F3v4dAcHDAGg"
      },
      "source": [
        "Let's see the unique values of the GICS sector by using one of the functions that pandas has in their library. Note that since we put 'GICS sector' into square brackets, it returns us an array."
      ]
    },
    {
      "cell_type": "code",
      "execution_count": 9,
      "metadata": {
        "colab": {
          "base_uri": "https://localhost:8080/"
        },
        "id": "GQM9sXJN7Gph",
        "outputId": "188c9c82-43a1-4ec0-d8f1-072627a2ffa5"
      },
      "outputs": [
        {
          "data": {
            "text/plain": [
              "array(['Industrials', 'Health Care', 'Information Technology',\n",
              "       'Consumer Staples', 'Utilities', 'Financials',\n",
              "       'Consumer Discretionary', 'Materials', 'Real Estate',\n",
              "       'Communication Services', 'Energy'], dtype=object)"
            ]
          },
          "execution_count": 9,
          "metadata": {},
          "output_type": "execute_result"
        }
      ],
      "source": [
        "df_sp_wiki['GICS Sector'].unique()"
      ]
    },
    {
      "cell_type": "markdown",
      "metadata": {
        "id": "XLptk6pkDU4Q"
      },
      "source": [
        "Let's determine the number of values in each sector by counting the number of 'Symbol' that belond to each category. "
      ]
    },
    {
      "cell_type": "code",
      "execution_count": 10,
      "metadata": {
        "colab": {
          "base_uri": "https://localhost:8080/"
        },
        "id": "KSUj1Xsr7o46",
        "outputId": "2e90419b-d688-46fb-e786-0771f2a83fc9"
      },
      "outputs": [
        {
          "data": {
            "text/plain": [
              "GICS Sector\n",
              "Communication Services    22\n",
              "Consumer Discretionary    53\n",
              "Consumer Staples          38\n",
              "Energy                    23\n",
              "Financials                72\n",
              "Health Care               64\n",
              "Industrials               77\n",
              "Information Technology    64\n",
              "Materials                 29\n",
              "Real Estate               31\n",
              "Utilities                 30\n",
              "Name: Symbol, dtype: int64"
            ]
          },
          "execution_count": 10,
          "metadata": {},
          "output_type": "execute_result"
        }
      ],
      "source": [
        "df=df_sp_wiki.groupby('GICS Sector')['Symbol'].nunique()\n",
        "df"
      ]
    },
    {
      "cell_type": "markdown",
      "metadata": {
        "id": "cHg1NVEpDjVE"
      },
      "source": [
        "Let's save the unique values of 'GICS Sector' into a list. "
      ]
    },
    {
      "cell_type": "code",
      "execution_count": 11,
      "metadata": {
        "id": "L0QsVN788D9e"
      },
      "outputs": [],
      "source": [
        "industry = list(pd.unique(df_sp_wiki['GICS Sector']))"
      ]
    },
    {
      "cell_type": "code",
      "execution_count": 12,
      "metadata": {
        "colab": {
          "base_uri": "https://localhost:8080/"
        },
        "id": "ACI6eLwD8RZV",
        "outputId": "4e521ea3-39ab-4847-e185-8bc4d8bd1613"
      },
      "outputs": [
        {
          "data": {
            "text/plain": [
              "['Industrials',\n",
              " 'Health Care',\n",
              " 'Information Technology',\n",
              " 'Consumer Staples',\n",
              " 'Utilities',\n",
              " 'Financials',\n",
              " 'Consumer Discretionary',\n",
              " 'Materials',\n",
              " 'Real Estate',\n",
              " 'Communication Services',\n",
              " 'Energy']"
            ]
          },
          "execution_count": 12,
          "metadata": {},
          "output_type": "execute_result"
        }
      ],
      "source": [
        "industry"
      ]
    },
    {
      "cell_type": "markdown",
      "metadata": {
        "id": "mxfhk-yrDpg-"
      },
      "source": [
        "Let's make the list that we just saved into a pie chart using matplotlib. \n",
        "<br> Remember that we already have imported the matplotlib library and called it plt\n",
        "\n"
      ]
    },
    {
      "cell_type": "code",
      "execution_count": 13,
      "metadata": {
        "colab": {
          "base_uri": "https://localhost:8080/",
          "height": 266
        },
        "id": "5CIGDCQC8Wyk",
        "outputId": "e0ae8eb3-ad0e-4a0f-a102-2e64bbeb1ee8"
      },
      "outputs": [
        {
          "data": {
            "text/plain": [
              "<function matplotlib.pyplot.show(close=None, block=None)>"
            ]
          },
          "execution_count": 13,
          "metadata": {},
          "output_type": "execute_result"
        },
        {
          "data": {
            "image/png": "[encoded data removed]",
            "text/plain": [
              "<Figure size 640x480 with 1 Axes>"
            ]
          },
          "metadata": {},
          "output_type": "display_data"
        }
      ],
      "source": [
        "plt.pie(df, labels=industry)\n",
        "plt.show"
      ]
    },
    {
      "cell_type": "markdown",
      "metadata": {
        "id": "dFZUL_wbD7xC"
      },
      "source": [
        "What if we want to show the percent of each section on the graph itself?"
      ]
    },
    {
      "cell_type": "code",
      "execution_count": 14,
      "metadata": {
        "colab": {
          "base_uri": "https://localhost:8080/",
          "height": 266
        },
        "id": "wB0e8YJYD5eW",
        "outputId": "8bc375ce-d731-452b-ff3d-333e88b8a69d"
      },
      "outputs": [
        {
          "data": {
            "text/plain": [
              "<function matplotlib.pyplot.show(close=None, block=None)>"
            ]
          },
          "execution_count": 14,
          "metadata": {},
          "output_type": "execute_result"
        },
        {
          "data": {
            "image/png": "[encoded data removed]",
            "text/plain": [
              "<Figure size 640x480 with 1 Axes>"
            ]
          },
          "metadata": {},
          "output_type": "display_data"
        }
      ],
      "source": [
        "plt.pie(df, labels=industry, autopct='%.0f%%')\n",
        "plt.show"
      ]
    },
    {
      "cell_type": "markdown",
      "metadata": {
        "id": "CFVk8LozEELc"
      },
      "source": [
        "Let's return all of the symbols in a list."
      ]
    },
    {
      "cell_type": "code",
      "execution_count": 15,
      "metadata": {
        "id": "ejxhTqII8yvc"
      },
      "outputs": [],
      "source": [
        "sp_ticker_list= list(df_sp_wiki['Symbol'].values)"
      ]
    },
    {
      "cell_type": "code",
      "execution_count": 16,
      "metadata": {
        "colab": {
          "base_uri": "https://localhost:8080/"
        },
        "id": "H2OMetaa9O6o",
        "outputId": "991800c0-13b1-495b-8d92-7f341715e5be"
      },
      "outputs": [
        {
          "data": {
            "text/plain": [
              "['MMM',\n",
              " 'AOS',\n",
              " 'ABT',\n",
              " 'ABBV',\n",
              " 'ACN',\n",
              " 'ADM',\n",
              " 'ADBE',\n",
              " 'ADP',\n",
              " 'AES',\n",
              " 'AFL',\n",
              " 'A',\n",
              " 'ABNB',\n",
              " 'APD',\n",
              " 'AKAM',\n",
              " 'ALK',\n",
              " 'ALB',\n",
              " 'ARE',\n",
              " 'ALGN',\n",
              " 'ALLE',\n",
              " 'LNT',\n",
              " 'ALL',\n",
              " 'GOOGL',\n",
              " 'GOOG',\n",
              " 'MO',\n",
              " 'AMZN',\n",
              " 'AMCR',\n",
              " 'AMD',\n",
              " 'AEE',\n",
              " 'AAL',\n",
              " 'AEP',\n",
              " 'AXP',\n",
              " 'AIG',\n",
              " 'AMT',\n",
              " 'AWK',\n",
              " 'AMP',\n",
              " 'AME',\n",
              " 'AMGN',\n",
              " 'APH',\n",
              " 'ADI',\n",
              " 'ANSS',\n",
              " 'AON',\n",
              " 'APA',\n",
              " 'AAPL',\n",
              " 'AMAT',\n",
              " 'APTV',\n",
              " 'ACGL',\n",
              " 'ANET',\n",
              " 'AJG',\n",
              " 'AIZ',\n",
              " 'T',\n",
              " 'ATO',\n",
              " 'ADSK',\n",
              " 'AZO',\n",
              " 'AVB',\n",
              " 'AVY',\n",
              " 'AXON',\n",
              " 'BKR',\n",
              " 'BALL',\n",
              " 'BAC',\n",
              " 'BBWI',\n",
              " 'BAX',\n",
              " 'BDX',\n",
              " 'WRB',\n",
              " 'BRK.B',\n",
              " 'BBY',\n",
              " 'BIO',\n",
              " 'TECH',\n",
              " 'BIIB',\n",
              " 'BLK',\n",
              " 'BX',\n",
              " 'BK',\n",
              " 'BA',\n",
              " 'BKNG',\n",
              " 'BWA',\n",
              " 'BXP',\n",
              " 'BSX',\n",
              " 'BMY',\n",
              " 'AVGO',\n",
              " 'BR',\n",
              " 'BRO',\n",
              " 'BF.B',\n",
              " 'BG',\n",
              " 'CHRW',\n",
              " 'CDNS',\n",
              " 'CZR',\n",
              " 'CPT',\n",
              " 'CPB',\n",
              " 'COF',\n",
              " 'CAH',\n",
              " 'KMX',\n",
              " 'CCL',\n",
              " 'CARR',\n",
              " 'CTLT',\n",
              " 'CAT',\n",
              " 'CBOE',\n",
              " 'CBRE',\n",
              " 'CDW',\n",
              " 'CE',\n",
              " 'COR',\n",
              " 'CNC',\n",
              " 'CNP',\n",
              " 'CDAY',\n",
              " 'CF',\n",
              " 'CRL',\n",
              " 'SCHW',\n",
              " 'CHTR',\n",
              " 'CVX',\n",
              " 'CMG',\n",
              " 'CB',\n",
              " 'CHD',\n",
              " 'CI',\n",
              " 'CINF',\n",
              " 'CTAS',\n",
              " 'CSCO',\n",
              " 'C',\n",
              " 'CFG',\n",
              " 'CLX',\n",
              " 'CME',\n",
              " 'CMS',\n",
              " 'KO',\n",
              " 'CTSH',\n",
              " 'CL',\n",
              " 'CMCSA',\n",
              " 'CMA',\n",
              " 'CAG',\n",
              " 'COP',\n",
              " 'ED',\n",
              " 'STZ',\n",
              " 'CEG',\n",
              " 'COO',\n",
              " 'CPRT',\n",
              " 'GLW',\n",
              " 'CTVA',\n",
              " 'CSGP',\n",
              " 'COST',\n",
              " 'CTRA',\n",
              " 'CCI',\n",
              " 'CSX',\n",
              " 'CMI',\n",
              " 'CVS',\n",
              " 'DHI',\n",
              " 'DHR',\n",
              " 'DRI',\n",
              " 'DVA',\n",
              " 'DE',\n",
              " 'DAL',\n",
              " 'XRAY',\n",
              " 'DVN',\n",
              " 'DXCM',\n",
              " 'FANG',\n",
              " 'DLR',\n",
              " 'DFS',\n",
              " 'DIS',\n",
              " 'DG',\n",
              " 'DLTR',\n",
              " 'D',\n",
              " 'DPZ',\n",
              " 'DOV',\n",
              " 'DOW',\n",
              " 'DTE',\n",
              " 'DUK',\n",
              " 'DD',\n",
              " 'EMN',\n",
              " 'ETN',\n",
              " 'EBAY',\n",
              " 'ECL',\n",
              " 'EIX',\n",
              " 'EW',\n",
              " 'EA',\n",
              " 'ELV',\n",
              " 'LLY',\n",
              " 'EMR',\n",
              " 'ENPH',\n",
              " 'ETR',\n",
              " 'EOG',\n",
              " 'EPAM',\n",
              " 'EQT',\n",
              " 'EFX',\n",
              " 'EQIX',\n",
              " 'EQR',\n",
              " 'ESS',\n",
              " 'EL',\n",
              " 'ETSY',\n",
              " 'EG',\n",
              " 'EVRG',\n",
              " 'ES',\n",
              " 'EXC',\n",
              " 'EXPE',\n",
              " 'EXPD',\n",
              " 'EXR',\n",
              " 'XOM',\n",
              " 'FFIV',\n",
              " 'FDS',\n",
              " 'FICO',\n",
              " 'FAST',\n",
              " 'FRT',\n",
              " 'FDX',\n",
              " 'FITB',\n",
              " 'FSLR',\n",
              " 'FE',\n",
              " 'FIS',\n",
              " 'FI',\n",
              " 'FLT',\n",
              " 'FMC',\n",
              " 'F',\n",
              " 'FTNT',\n",
              " 'FTV',\n",
              " 'FOXA',\n",
              " 'FOX',\n",
              " 'BEN',\n",
              " 'FCX',\n",
              " 'GRMN',\n",
              " 'IT',\n",
              " 'GEHC',\n",
              " 'GEN',\n",
              " 'GNRC',\n",
              " 'GD',\n",
              " 'GE',\n",
              " 'GIS',\n",
              " 'GM',\n",
              " 'GPC',\n",
              " 'GILD',\n",
              " 'GL',\n",
              " 'GPN',\n",
              " 'GS',\n",
              " 'HAL',\n",
              " 'HIG',\n",
              " 'HAS',\n",
              " 'HCA',\n",
              " 'PEAK',\n",
              " 'HSIC',\n",
              " 'HSY',\n",
              " 'HES',\n",
              " 'HPE',\n",
              " 'HLT',\n",
              " 'HOLX',\n",
              " 'HD',\n",
              " 'HON',\n",
              " 'HRL',\n",
              " 'HST',\n",
              " 'HWM',\n",
              " 'HPQ',\n",
              " 'HUBB',\n",
              " 'HUM',\n",
              " 'HBAN',\n",
              " 'HII',\n",
              " 'IBM',\n",
              " 'IEX',\n",
              " 'IDXX',\n",
              " 'ITW',\n",
              " 'ILMN',\n",
              " 'INCY',\n",
              " 'IR',\n",
              " 'PODD',\n",
              " 'INTC',\n",
              " 'ICE',\n",
              " 'IFF',\n",
              " 'IP',\n",
              " 'IPG',\n",
              " 'INTU',\n",
              " 'ISRG',\n",
              " 'IVZ',\n",
              " 'INVH',\n",
              " 'IQV',\n",
              " 'IRM',\n",
              " 'JBHT',\n",
              " 'JKHY',\n",
              " 'J',\n",
              " 'JNJ',\n",
              " 'JCI',\n",
              " 'JPM',\n",
              " 'JNPR',\n",
              " 'K',\n",
              " 'KVUE',\n",
              " 'KDP',\n",
              " 'KEY',\n",
              " 'KEYS',\n",
              " 'KMB',\n",
              " 'KIM',\n",
              " 'KMI',\n",
              " 'KLAC',\n",
              " 'KHC',\n",
              " 'KR',\n",
              " 'LHX',\n",
              " 'LH',\n",
              " 'LRCX',\n",
              " 'LW',\n",
              " 'LVS',\n",
              " 'LDOS',\n",
              " 'LEN',\n",
              " 'LIN',\n",
              " 'LYV',\n",
              " 'LKQ',\n",
              " 'LMT',\n",
              " 'L',\n",
              " 'LOW',\n",
              " 'LULU',\n",
              " 'LYB',\n",
              " 'MTB',\n",
              " 'MRO',\n",
              " 'MPC',\n",
              " 'MKTX',\n",
              " 'MAR',\n",
              " 'MMC',\n",
              " 'MLM',\n",
              " 'MAS',\n",
              " 'MA',\n",
              " 'MTCH',\n",
              " 'MKC',\n",
              " 'MCD',\n",
              " 'MCK',\n",
              " 'MDT',\n",
              " 'MRK',\n",
              " 'META',\n",
              " 'MET',\n",
              " 'MTD',\n",
              " 'MGM',\n",
              " 'MCHP',\n",
              " 'MU',\n",
              " 'MSFT',\n",
              " 'MAA',\n",
              " 'MRNA',\n",
              " 'MHK',\n",
              " 'MOH',\n",
              " 'TAP',\n",
              " 'MDLZ',\n",
              " 'MPWR',\n",
              " 'MNST',\n",
              " 'MCO',\n",
              " 'MS',\n",
              " 'MOS',\n",
              " 'MSI',\n",
              " 'MSCI',\n",
              " 'NDAQ',\n",
              " 'NTAP',\n",
              " 'NFLX',\n",
              " 'NEM',\n",
              " 'NWSA',\n",
              " 'NWS',\n",
              " 'NEE',\n",
              " 'NKE',\n",
              " 'NI',\n",
              " 'NDSN',\n",
              " 'NSC',\n",
              " 'NTRS',\n",
              " 'NOC',\n",
              " 'NCLH',\n",
              " 'NRG',\n",
              " 'NUE',\n",
              " 'NVDA',\n",
              " 'NVR',\n",
              " 'NXPI',\n",
              " 'ORLY',\n",
              " 'OXY',\n",
              " 'ODFL',\n",
              " 'OMC',\n",
              " 'ON',\n",
              " 'OKE',\n",
              " 'ORCL',\n",
              " 'OTIS',\n",
              " 'PCAR',\n",
              " 'PKG',\n",
              " 'PANW',\n",
              " 'PARA',\n",
              " 'PH',\n",
              " 'PAYX',\n",
              " 'PAYC',\n",
              " 'PYPL',\n",
              " 'PNR',\n",
              " 'PEP',\n",
              " 'PFE',\n",
              " 'PCG',\n",
              " 'PM',\n",
              " 'PSX',\n",
              " 'PNW',\n",
              " 'PXD',\n",
              " 'PNC',\n",
              " 'POOL',\n",
              " 'PPG',\n",
              " 'PPL',\n",
              " 'PFG',\n",
              " 'PG',\n",
              " 'PGR',\n",
              " 'PLD',\n",
              " 'PRU',\n",
              " 'PEG',\n",
              " 'PTC',\n",
              " 'PSA',\n",
              " 'PHM',\n",
              " 'QRVO',\n",
              " 'PWR',\n",
              " 'QCOM',\n",
              " 'DGX',\n",
              " 'RL',\n",
              " 'RJF',\n",
              " 'RTX',\n",
              " 'O',\n",
              " 'REG',\n",
              " 'REGN',\n",
              " 'RF',\n",
              " 'RSG',\n",
              " 'RMD',\n",
              " 'RVTY',\n",
              " 'RHI',\n",
              " 'ROK',\n",
              " 'ROL',\n",
              " 'ROP',\n",
              " 'ROST',\n",
              " 'RCL',\n",
              " 'SPGI',\n",
              " 'CRM',\n",
              " 'SBAC',\n",
              " 'SLB',\n",
              " 'STX',\n",
              " 'SEE',\n",
              " 'SRE',\n",
              " 'NOW',\n",
              " 'SHW',\n",
              " 'SPG',\n",
              " 'SWKS',\n",
              " 'SJM',\n",
              " 'SNA',\n",
              " 'SEDG',\n",
              " 'SO',\n",
              " 'LUV',\n",
              " 'SWK',\n",
              " 'SBUX',\n",
              " 'STT',\n",
              " 'STLD',\n",
              " 'STE',\n",
              " 'SYK',\n",
              " 'SYF',\n",
              " 'SNPS',\n",
              " 'SYY',\n",
              " 'TMUS',\n",
              " 'TROW',\n",
              " 'TTWO',\n",
              " 'TPR',\n",
              " 'TRGP',\n",
              " 'TGT',\n",
              " 'TEL',\n",
              " 'TDY',\n",
              " 'TFX',\n",
              " 'TER',\n",
              " 'TSLA',\n",
              " 'TXN',\n",
              " 'TXT',\n",
              " 'TMO',\n",
              " 'TJX',\n",
              " 'TSCO',\n",
              " 'TT',\n",
              " 'TDG',\n",
              " 'TRV',\n",
              " 'TRMB',\n",
              " 'TFC',\n",
              " 'TYL',\n",
              " 'TSN',\n",
              " 'USB',\n",
              " 'UDR',\n",
              " 'ULTA',\n",
              " 'UNP',\n",
              " 'UAL',\n",
              " 'UPS',\n",
              " 'URI',\n",
              " 'UNH',\n",
              " 'UHS',\n",
              " 'VLO',\n",
              " 'VTR',\n",
              " 'VLTO',\n",
              " 'VRSN',\n",
              " 'VRSK',\n",
              " 'VZ',\n",
              " 'VRTX',\n",
              " 'VFC',\n",
              " 'VTRS',\n",
              " 'VICI',\n",
              " 'V',\n",
              " 'VMC',\n",
              " 'WAB',\n",
              " 'WBA',\n",
              " 'WMT',\n",
              " 'WBD',\n",
              " 'WM',\n",
              " 'WAT',\n",
              " 'WEC',\n",
              " 'WFC',\n",
              " 'WELL',\n",
              " 'WST',\n",
              " 'WDC',\n",
              " 'WRK',\n",
              " 'WY',\n",
              " 'WHR',\n",
              " 'WMB',\n",
              " 'WTW',\n",
              " 'GWW',\n",
              " 'WYNN',\n",
              " 'XEL',\n",
              " 'XYL',\n",
              " 'YUM',\n",
              " 'ZBRA',\n",
              " 'ZBH',\n",
              " 'ZION',\n",
              " 'ZTS']"
            ]
          },
          "execution_count": 16,
          "metadata": {},
          "output_type": "execute_result"
        }
      ],
      "source": [
        "sp_ticker_list"
      ]
    },
    {
      "cell_type": "markdown",
      "metadata": {
        "id": "GRPOb5ezEHs1"
      },
      "source": [
        "Hos do we detrmine the length of this list? Python has a prebuilt function called len that returns the length of any list. "
      ]
    },
    {
      "cell_type": "code",
      "execution_count": 17,
      "metadata": {
        "colab": {
          "base_uri": "https://localhost:8080/"
        },
        "id": "39-Key2N9VzM",
        "outputId": "7f2f31f4-7467-4d3f-da41-4fdfc89e344a"
      },
      "outputs": [
        {
          "data": {
            "text/plain": [
              "503"
            ]
          },
          "execution_count": 17,
          "metadata": {},
          "output_type": "execute_result"
        }
      ],
      "source": [
        "len(sp_ticker_list)"
      ]
    },
    {
      "cell_type": "markdown",
      "metadata": {
        "id": "6vSU1ZkCEND9"
      },
      "source": [
        "Let's take a look at Microsoft's stock prices using yfinance. "
      ]
    },
    {
      "cell_type": "code",
      "execution_count": 18,
      "metadata": {
        "colab": {
          "base_uri": "https://localhost:8080/",
          "height": 473
        },
        "id": "f2D7gDd59eB5",
        "outputId": "786f2508-1235-436c-cecc-b84104ac852d"
      },
      "outputs": [
        {
          "name": "stdout",
          "output_type": "stream",
          "text": [
            "[*********************100%%**********************]  1 of 1 completed\n"
          ]
        },
        {
          "data": {
            "text/html": [
              "<div>\n",
              "<style scoped>\n",
              "    .dataframe tbody tr th:only-of-type {\n",
              "        vertical-align: middle;\n",
              "    }\n",
              "\n",
              "    .dataframe tbody tr th {\n",
              "        vertical-align: top;\n",
              "    }\n",
              "\n",
              "    .dataframe thead th {\n",
              "        text-align: right;\n",
              "    }\n",
              "</style>\n",
              "<table border=\"1\" class=\"dataframe\">\n",
              "  <thead>\n",
              "    <tr style=\"text-align: right;\">\n",
              "      <th></th>\n",
              "      <th>Open</th>\n",
              "      <th>High</th>\n",
              "      <th>Low</th>\n",
              "      <th>Close</th>\n",
              "      <th>Adj Close</th>\n",
              "      <th>Volume</th>\n",
              "    </tr>\n",
              "    <tr>\n",
              "      <th>Date</th>\n",
              "      <th></th>\n",
              "      <th></th>\n",
              "      <th></th>\n",
              "      <th></th>\n",
              "      <th></th>\n",
              "      <th></th>\n",
              "    </tr>\n",
              "  </thead>\n",
              "  <tbody>\n",
              "    <tr>\n",
              "      <th>1986-03-13</th>\n",
              "      <td>0.088542</td>\n",
              "      <td>0.101563</td>\n",
              "      <td>0.088542</td>\n",
              "      <td>0.097222</td>\n",
              "      <td>0.060396</td>\n",
              "      <td>1031788800</td>\n",
              "    </tr>\n",
              "    <tr>\n",
              "      <th>1986-03-14</th>\n",
              "      <td>0.097222</td>\n",
              "      <td>0.102431</td>\n",
              "      <td>0.097222</td>\n",
              "      <td>0.100694</td>\n",
              "      <td>0.062553</td>\n",
              "      <td>308160000</td>\n",
              "    </tr>\n",
              "    <tr>\n",
              "      <th>1986-03-17</th>\n",
              "      <td>0.100694</td>\n",
              "      <td>0.103299</td>\n",
              "      <td>0.100694</td>\n",
              "      <td>0.102431</td>\n",
              "      <td>0.063632</td>\n",
              "      <td>133171200</td>\n",
              "    </tr>\n",
              "    <tr>\n",
              "      <th>1986-03-18</th>\n",
              "      <td>0.102431</td>\n",
              "      <td>0.103299</td>\n",
              "      <td>0.098958</td>\n",
              "      <td>0.099826</td>\n",
              "      <td>0.062014</td>\n",
              "      <td>67766400</td>\n",
              "    </tr>\n",
              "    <tr>\n",
              "      <th>1986-03-19</th>\n",
              "      <td>0.099826</td>\n",
              "      <td>0.100694</td>\n",
              "      <td>0.097222</td>\n",
              "      <td>0.098090</td>\n",
              "      <td>0.060936</td>\n",
              "      <td>47894400</td>\n",
              "    </tr>\n",
              "    <tr>\n",
              "      <th>...</th>\n",
              "      <td>...</td>\n",
              "      <td>...</td>\n",
              "      <td>...</td>\n",
              "      <td>...</td>\n",
              "      <td>...</td>\n",
              "      <td>...</td>\n",
              "    </tr>\n",
              "    <tr>\n",
              "      <th>2023-10-11</th>\n",
              "      <td>331.209991</td>\n",
              "      <td>332.820007</td>\n",
              "      <td>329.140015</td>\n",
              "      <td>332.420013</td>\n",
              "      <td>332.420013</td>\n",
              "      <td>20063200</td>\n",
              "    </tr>\n",
              "    <tr>\n",
              "      <th>2023-10-12</th>\n",
              "      <td>330.570007</td>\n",
              "      <td>333.630005</td>\n",
              "      <td>328.720001</td>\n",
              "      <td>331.160004</td>\n",
              "      <td>331.160004</td>\n",
              "      <td>19313100</td>\n",
              "    </tr>\n",
              "    <tr>\n",
              "      <th>2023-10-13</th>\n",
              "      <td>332.380005</td>\n",
              "      <td>333.829987</td>\n",
              "      <td>326.359985</td>\n",
              "      <td>327.730011</td>\n",
              "      <td>327.730011</td>\n",
              "      <td>21072400</td>\n",
              "    </tr>\n",
              "    <tr>\n",
              "      <th>2023-10-16</th>\n",
              "      <td>331.049988</td>\n",
              "      <td>336.140015</td>\n",
              "      <td>330.600006</td>\n",
              "      <td>332.640015</td>\n",
              "      <td>332.640015</td>\n",
              "      <td>22158000</td>\n",
              "    </tr>\n",
              "    <tr>\n",
              "      <th>2023-10-17</th>\n",
              "      <td>329.589996</td>\n",
              "      <td>333.459991</td>\n",
              "      <td>327.429993</td>\n",
              "      <td>332.059998</td>\n",
              "      <td>332.059998</td>\n",
              "      <td>17350208</td>\n",
              "    </tr>\n",
              "  </tbody>\n",
              "</table>\n",
              "<p>9476 rows × 6 columns</p>\n",
              "</div>"
            ],
            "text/plain": [
              "                  Open        High         Low       Close   Adj Close  \\\n",
              "Date                                                                     \n",
              "1986-03-13    0.088542    0.101563    0.088542    0.097222    0.060396   \n",
              "1986-03-14    0.097222    0.102431    0.097222    0.100694    0.062553   \n",
              "1986-03-17    0.100694    0.103299    0.100694    0.102431    0.063632   \n",
              "1986-03-18    0.102431    0.103299    0.098958    0.099826    0.062014   \n",
              "1986-03-19    0.099826    0.100694    0.097222    0.098090    0.060936   \n",
              "...                ...         ...         ...         ...         ...   \n",
              "2023-10-11  331.209991  332.820007  329.140015  332.420013  332.420013   \n",
              "2023-10-12  330.570007  333.630005  328.720001  331.160004  331.160004   \n",
              "2023-10-13  332.380005  333.829987  326.359985  327.730011  327.730011   \n",
              "2023-10-16  331.049988  336.140015  330.600006  332.640015  332.640015   \n",
              "2023-10-17  329.589996  333.459991  327.429993  332.059998  332.059998   \n",
              "\n",
              "                Volume  \n",
              "Date                    \n",
              "1986-03-13  1031788800  \n",
              "1986-03-14   308160000  \n",
              "1986-03-17   133171200  \n",
              "1986-03-18    67766400  \n",
              "1986-03-19    47894400  \n",
              "...                ...  \n",
              "2023-10-11    20063200  \n",
              "2023-10-12    19313100  \n",
              "2023-10-13    21072400  \n",
              "2023-10-16    22158000  \n",
              "2023-10-17    17350208  \n",
              "\n",
              "[9476 rows x 6 columns]"
            ]
          },
          "execution_count": 18,
          "metadata": {},
          "output_type": "execute_result"
        }
      ],
      "source": [
        "yf.download('MSFT')"
      ]
    },
    {
      "cell_type": "markdown",
      "metadata": {
        "id": "zCaDlESPERK1"
      },
      "source": [
        "What if we want to call one of the built in functions for microsoft and return its dividends, or how much each stock returns to its; customer over a period of time? \n",
        "<br> It won't work because we haven't declared MSFT as a variable. We've only downloaded the information from yfinance. "
      ]
    },
    {
      "cell_type": "code",
      "execution_count": 19,
      "metadata": {
        "colab": {
          "base_uri": "https://localhost:8080/",
          "height": 169
        },
        "id": "fOUuHHkK972c",
        "outputId": "300859e2-a3ff-4258-f8db-1673526d7c60"
      },
      "outputs": [
        {
          "ename": "NameError",
          "evalue": "name 'MSFT' is not defined",
          "output_type": "error",
          "traceback": [
            "\u001b[1;31m---------------------------------------------------------------------------\u001b[0m",
            "\u001b[1;31mNameError\u001b[0m                                 Traceback (most recent call last)",
            "\u001b[1;32mc:\\Users\\mjdel\\Downloads\\Intro_to_Python_MISSA_X_FS_X_AMI.ipynb Cell 42\u001b[0m line \u001b[0;36m1\n\u001b[1;32m----> <a href='vscode-notebook-cell:/c%3A/Users/mjdel/Downloads/Intro_to_Python_MISSA_X_FS_X_AMI.ipynb#X56sZmlsZQ%3D%3D?line=0'>1</a>\u001b[0m MSFT\u001b[39m.\u001b[39mdividends\n",
            "\u001b[1;31mNameError\u001b[0m: name 'MSFT' is not defined"
          ]
        }
      ],
      "source": [
        "MSFT.dividends"
      ]
    },
    {
      "cell_type": "markdown",
      "metadata": {
        "id": "C2ETZiNUEkN7"
      },
      "source": [
        "Let's save MSFT ticker information into a variable so we can call it's information. "
      ]
    },
    {
      "cell_type": "code",
      "execution_count": 20,
      "metadata": {
        "id": "LcaWO7N692So"
      },
      "outputs": [],
      "source": [
        "msft=yf.Ticker('MSFT')"
      ]
    },
    {
      "cell_type": "code",
      "execution_count": 21,
      "metadata": {
        "colab": {
          "base_uri": "https://localhost:8080/"
        },
        "id": "jhlks4GA-C8g",
        "outputId": "d8e2b584-77ae-4194-88c8-62d619fa40b4"
      },
      "outputs": [
        {
          "data": {
            "text/plain": [
              "Date\n",
              "2003-02-19 00:00:00-05:00    0.08\n",
              "2003-10-15 00:00:00-04:00    0.16\n",
              "2004-08-23 00:00:00-04:00    0.08\n",
              "2004-11-15 00:00:00-05:00    3.08\n",
              "2005-02-15 00:00:00-05:00    0.08\n",
              "                             ... \n",
              "2022-08-17 00:00:00-04:00    0.62\n",
              "2022-11-16 00:00:00-05:00    0.68\n",
              "2023-02-15 00:00:00-05:00    0.68\n",
              "2023-05-17 00:00:00-04:00    0.68\n",
              "2023-08-16 00:00:00-04:00    0.68\n",
              "Name: Dividends, Length: 79, dtype: float64"
            ]
          },
          "execution_count": 21,
          "metadata": {},
          "output_type": "execute_result"
        }
      ],
      "source": [
        "msft.dividends"
      ]
    },
    {
      "cell_type": "markdown",
      "metadata": {
        "id": "ZLtkU4kGEp4w"
      },
      "source": [
        "Let's download multiple company's information into a dataframe.  "
      ]
    },
    {
      "cell_type": "code",
      "execution_count": 22,
      "metadata": {
        "colab": {
          "base_uri": "https://localhost:8080/",
          "height": 710
        },
        "id": "O9uEe9mY-Z2W",
        "outputId": "a789835d-b287-47e8-ba61-36b5b298b66a"
      },
      "outputs": [
        {
          "name": "stdout",
          "output_type": "stream",
          "text": [
            "[*********************100%%**********************]  4 of 4 completed\n"
          ]
        },
        {
          "data": {
            "text/html": [
              "<div>\n",
              "<style scoped>\n",
              "    .dataframe tbody tr th:only-of-type {\n",
              "        vertical-align: middle;\n",
              "    }\n",
              "\n",
              "    .dataframe tbody tr th {\n",
              "        vertical-align: top;\n",
              "    }\n",
              "\n",
              "    .dataframe thead tr th {\n",
              "        text-align: left;\n",
              "    }\n",
              "\n",
              "    .dataframe thead tr:last-of-type th {\n",
              "        text-align: right;\n",
              "    }\n",
              "</style>\n",
              "<table border=\"1\" class=\"dataframe\">\n",
              "  <thead>\n",
              "    <tr>\n",
              "      <th></th>\n",
              "      <th colspan=\"4\" halign=\"left\">Adj Close</th>\n",
              "      <th colspan=\"4\" halign=\"left\">Close</th>\n",
              "      <th colspan=\"2\" halign=\"left\">High</th>\n",
              "      <th>...</th>\n",
              "      <th colspan=\"2\" halign=\"left\">Low</th>\n",
              "      <th colspan=\"4\" halign=\"left\">Open</th>\n",
              "      <th colspan=\"4\" halign=\"left\">Volume</th>\n",
              "    </tr>\n",
              "    <tr>\n",
              "      <th></th>\n",
              "      <th>AAPL</th>\n",
              "      <th>AMZN</th>\n",
              "      <th>GOOG</th>\n",
              "      <th>META</th>\n",
              "      <th>AAPL</th>\n",
              "      <th>AMZN</th>\n",
              "      <th>GOOG</th>\n",
              "      <th>META</th>\n",
              "      <th>AAPL</th>\n",
              "      <th>AMZN</th>\n",
              "      <th>...</th>\n",
              "      <th>GOOG</th>\n",
              "      <th>META</th>\n",
              "      <th>AAPL</th>\n",
              "      <th>AMZN</th>\n",
              "      <th>GOOG</th>\n",
              "      <th>META</th>\n",
              "      <th>AAPL</th>\n",
              "      <th>AMZN</th>\n",
              "      <th>GOOG</th>\n",
              "      <th>META</th>\n",
              "    </tr>\n",
              "    <tr>\n",
              "      <th>Date</th>\n",
              "      <th></th>\n",
              "      <th></th>\n",
              "      <th></th>\n",
              "      <th></th>\n",
              "      <th></th>\n",
              "      <th></th>\n",
              "      <th></th>\n",
              "      <th></th>\n",
              "      <th></th>\n",
              "      <th></th>\n",
              "      <th></th>\n",
              "      <th></th>\n",
              "      <th></th>\n",
              "      <th></th>\n",
              "      <th></th>\n",
              "      <th></th>\n",
              "      <th></th>\n",
              "      <th></th>\n",
              "      <th></th>\n",
              "      <th></th>\n",
              "      <th></th>\n",
              "    </tr>\n",
              "  </thead>\n",
              "  <tbody>\n",
              "    <tr>\n",
              "      <th>2017-01-03</th>\n",
              "      <td>27.059315</td>\n",
              "      <td>37.683498</td>\n",
              "      <td>39.306999</td>\n",
              "      <td>116.860001</td>\n",
              "      <td>29.037500</td>\n",
              "      <td>37.683498</td>\n",
              "      <td>39.306999</td>\n",
              "      <td>116.860001</td>\n",
              "      <td>29.082500</td>\n",
              "      <td>37.938000</td>\n",
              "      <td>...</td>\n",
              "      <td>38.790001</td>\n",
              "      <td>115.510002</td>\n",
              "      <td>28.950001</td>\n",
              "      <td>37.896000</td>\n",
              "      <td>38.940498</td>\n",
              "      <td>116.029999</td>\n",
              "      <td>115127600</td>\n",
              "      <td>70422000</td>\n",
              "      <td>33146000</td>\n",
              "      <td>20663900</td>\n",
              "    </tr>\n",
              "    <tr>\n",
              "      <th>2017-01-04</th>\n",
              "      <td>27.029020</td>\n",
              "      <td>37.859001</td>\n",
              "      <td>39.345001</td>\n",
              "      <td>118.690002</td>\n",
              "      <td>29.004999</td>\n",
              "      <td>37.859001</td>\n",
              "      <td>39.345001</td>\n",
              "      <td>118.690002</td>\n",
              "      <td>29.127501</td>\n",
              "      <td>37.984001</td>\n",
              "      <td>...</td>\n",
              "      <td>39.158001</td>\n",
              "      <td>117.290001</td>\n",
              "      <td>28.962500</td>\n",
              "      <td>37.919498</td>\n",
              "      <td>39.417999</td>\n",
              "      <td>117.550003</td>\n",
              "      <td>84472400</td>\n",
              "      <td>50210000</td>\n",
              "      <td>21460000</td>\n",
              "      <td>19630900</td>\n",
              "    </tr>\n",
              "    <tr>\n",
              "      <th>2017-01-05</th>\n",
              "      <td>27.166473</td>\n",
              "      <td>39.022499</td>\n",
              "      <td>39.701000</td>\n",
              "      <td>120.669998</td>\n",
              "      <td>29.152500</td>\n",
              "      <td>39.022499</td>\n",
              "      <td>39.701000</td>\n",
              "      <td>120.669998</td>\n",
              "      <td>29.215000</td>\n",
              "      <td>39.119999</td>\n",
              "      <td>...</td>\n",
              "      <td>39.250999</td>\n",
              "      <td>118.320000</td>\n",
              "      <td>28.980000</td>\n",
              "      <td>38.077499</td>\n",
              "      <td>39.304001</td>\n",
              "      <td>118.860001</td>\n",
              "      <td>88774400</td>\n",
              "      <td>116602000</td>\n",
              "      <td>26704000</td>\n",
              "      <td>19492200</td>\n",
              "    </tr>\n",
              "    <tr>\n",
              "      <th>2017-01-06</th>\n",
              "      <td>27.469334</td>\n",
              "      <td>39.799500</td>\n",
              "      <td>40.307499</td>\n",
              "      <td>123.410004</td>\n",
              "      <td>29.477501</td>\n",
              "      <td>39.799500</td>\n",
              "      <td>40.307499</td>\n",
              "      <td>123.410004</td>\n",
              "      <td>29.540001</td>\n",
              "      <td>39.972000</td>\n",
              "      <td>...</td>\n",
              "      <td>39.610199</td>\n",
              "      <td>120.029999</td>\n",
              "      <td>29.195000</td>\n",
              "      <td>39.118000</td>\n",
              "      <td>39.763000</td>\n",
              "      <td>120.980003</td>\n",
              "      <td>127007600</td>\n",
              "      <td>119724000</td>\n",
              "      <td>32804000</td>\n",
              "      <td>28545300</td>\n",
              "    </tr>\n",
              "    <tr>\n",
              "      <th>2017-01-09</th>\n",
              "      <td>27.720938</td>\n",
              "      <td>39.846001</td>\n",
              "      <td>40.332500</td>\n",
              "      <td>124.900002</td>\n",
              "      <td>29.747499</td>\n",
              "      <td>39.846001</td>\n",
              "      <td>40.332500</td>\n",
              "      <td>124.900002</td>\n",
              "      <td>29.857500</td>\n",
              "      <td>40.088501</td>\n",
              "      <td>...</td>\n",
              "      <td>40.141499</td>\n",
              "      <td>123.040001</td>\n",
              "      <td>29.487499</td>\n",
              "      <td>39.900002</td>\n",
              "      <td>40.320000</td>\n",
              "      <td>123.550003</td>\n",
              "      <td>134247600</td>\n",
              "      <td>68922000</td>\n",
              "      <td>25492000</td>\n",
              "      <td>22880400</td>\n",
              "    </tr>\n",
              "    <tr>\n",
              "      <th>2017-01-10</th>\n",
              "      <td>27.748888</td>\n",
              "      <td>39.794998</td>\n",
              "      <td>40.239498</td>\n",
              "      <td>124.349998</td>\n",
              "      <td>29.777500</td>\n",
              "      <td>39.794998</td>\n",
              "      <td>40.239498</td>\n",
              "      <td>124.349998</td>\n",
              "      <td>29.844999</td>\n",
              "      <td>39.900002</td>\n",
              "      <td>...</td>\n",
              "      <td>40.175499</td>\n",
              "      <td>124.279999</td>\n",
              "      <td>29.692499</td>\n",
              "      <td>39.830002</td>\n",
              "      <td>40.393002</td>\n",
              "      <td>124.820000</td>\n",
              "      <td>97848400</td>\n",
              "      <td>51168000</td>\n",
              "      <td>23536000</td>\n",
              "      <td>17324600</td>\n",
              "    </tr>\n",
              "    <tr>\n",
              "      <th>2017-01-11</th>\n",
              "      <td>27.897993</td>\n",
              "      <td>39.951000</td>\n",
              "      <td>40.395500</td>\n",
              "      <td>126.089996</td>\n",
              "      <td>29.937500</td>\n",
              "      <td>39.951000</td>\n",
              "      <td>40.395500</td>\n",
              "      <td>126.089996</td>\n",
              "      <td>29.982500</td>\n",
              "      <td>39.974998</td>\n",
              "      <td>...</td>\n",
              "      <td>40.068501</td>\n",
              "      <td>124.059998</td>\n",
              "      <td>29.684999</td>\n",
              "      <td>39.682999</td>\n",
              "      <td>40.250000</td>\n",
              "      <td>124.349998</td>\n",
              "      <td>110354400</td>\n",
              "      <td>59856000</td>\n",
              "      <td>21318000</td>\n",
              "      <td>18356500</td>\n",
              "    </tr>\n",
              "    <tr>\n",
              "      <th>2017-01-12</th>\n",
              "      <td>27.781509</td>\n",
              "      <td>40.681999</td>\n",
              "      <td>40.318001</td>\n",
              "      <td>126.620003</td>\n",
              "      <td>29.812500</td>\n",
              "      <td>40.681999</td>\n",
              "      <td>40.318001</td>\n",
              "      <td>126.620003</td>\n",
              "      <td>29.825001</td>\n",
              "      <td>40.706501</td>\n",
              "      <td>...</td>\n",
              "      <td>39.958500</td>\n",
              "      <td>124.800003</td>\n",
              "      <td>29.725000</td>\n",
              "      <td>40.015499</td>\n",
              "      <td>40.356998</td>\n",
              "      <td>125.610001</td>\n",
              "      <td>108344800</td>\n",
              "      <td>97478000</td>\n",
              "      <td>27062000</td>\n",
              "      <td>18653900</td>\n",
              "    </tr>\n",
              "    <tr>\n",
              "      <th>2017-01-13</th>\n",
              "      <td>27.732588</td>\n",
              "      <td>40.856998</td>\n",
              "      <td>40.394001</td>\n",
              "      <td>128.339996</td>\n",
              "      <td>29.760000</td>\n",
              "      <td>40.856998</td>\n",
              "      <td>40.394001</td>\n",
              "      <td>128.339996</td>\n",
              "      <td>29.905001</td>\n",
              "      <td>41.082500</td>\n",
              "      <td>...</td>\n",
              "      <td>40.334499</td>\n",
              "      <td>127.370003</td>\n",
              "      <td>29.777500</td>\n",
              "      <td>40.716000</td>\n",
              "      <td>40.374001</td>\n",
              "      <td>127.489998</td>\n",
              "      <td>104447600</td>\n",
              "      <td>75838000</td>\n",
              "      <td>21984000</td>\n",
              "      <td>24884300</td>\n",
              "    </tr>\n",
              "    <tr>\n",
              "      <th>2017-01-17</th>\n",
              "      <td>27.956240</td>\n",
              "      <td>40.486000</td>\n",
              "      <td>40.230499</td>\n",
              "      <td>127.870003</td>\n",
              "      <td>30.000000</td>\n",
              "      <td>40.486000</td>\n",
              "      <td>40.230499</td>\n",
              "      <td>127.870003</td>\n",
              "      <td>30.059999</td>\n",
              "      <td>40.799999</td>\n",
              "      <td>...</td>\n",
              "      <td>40.018501</td>\n",
              "      <td>127.400002</td>\n",
              "      <td>29.584999</td>\n",
              "      <td>40.785000</td>\n",
              "      <td>40.354000</td>\n",
              "      <td>128.039993</td>\n",
              "      <td>137759200</td>\n",
              "      <td>73410000</td>\n",
              "      <td>27242000</td>\n",
              "      <td>15294500</td>\n",
              "    </tr>\n",
              "  </tbody>\n",
              "</table>\n",
              "<p>10 rows × 24 columns</p>\n",
              "</div>"
            ],
            "text/plain": [
              "            Adj Close                                        Close             \\\n",
              "                 AAPL       AMZN       GOOG        META       AAPL       AMZN   \n",
              "Date                                                                            \n",
              "2017-01-03  27.059315  37.683498  39.306999  116.860001  29.037500  37.683498   \n",
              "2017-01-04  27.029020  37.859001  39.345001  118.690002  29.004999  37.859001   \n",
              "2017-01-05  27.166473  39.022499  39.701000  120.669998  29.152500  39.022499   \n",
              "2017-01-06  27.469334  39.799500  40.307499  123.410004  29.477501  39.799500   \n",
              "2017-01-09  27.720938  39.846001  40.332500  124.900002  29.747499  39.846001   \n",
              "2017-01-10  27.748888  39.794998  40.239498  124.349998  29.777500  39.794998   \n",
              "2017-01-11  27.897993  39.951000  40.395500  126.089996  29.937500  39.951000   \n",
              "2017-01-12  27.781509  40.681999  40.318001  126.620003  29.812500  40.681999   \n",
              "2017-01-13  27.732588  40.856998  40.394001  128.339996  29.760000  40.856998   \n",
              "2017-01-17  27.956240  40.486000  40.230499  127.870003  30.000000  40.486000   \n",
              "\n",
              "                                        High             ...        Low  \\\n",
              "                 GOOG        META       AAPL       AMZN  ...       GOOG   \n",
              "Date                                                     ...              \n",
              "2017-01-03  39.306999  116.860001  29.082500  37.938000  ...  38.790001   \n",
              "2017-01-04  39.345001  118.690002  29.127501  37.984001  ...  39.158001   \n",
              "2017-01-05  39.701000  120.669998  29.215000  39.119999  ...  39.250999   \n",
              "2017-01-06  40.307499  123.410004  29.540001  39.972000  ...  39.610199   \n",
              "2017-01-09  40.332500  124.900002  29.857500  40.088501  ...  40.141499   \n",
              "2017-01-10  40.239498  124.349998  29.844999  39.900002  ...  40.175499   \n",
              "2017-01-11  40.395500  126.089996  29.982500  39.974998  ...  40.068501   \n",
              "2017-01-12  40.318001  126.620003  29.825001  40.706501  ...  39.958500   \n",
              "2017-01-13  40.394001  128.339996  29.905001  41.082500  ...  40.334499   \n",
              "2017-01-17  40.230499  127.870003  30.059999  40.799999  ...  40.018501   \n",
              "\n",
              "                             Open                                    \\\n",
              "                  META       AAPL       AMZN       GOOG        META   \n",
              "Date                                                                  \n",
              "2017-01-03  115.510002  28.950001  37.896000  38.940498  116.029999   \n",
              "2017-01-04  117.290001  28.962500  37.919498  39.417999  117.550003   \n",
              "2017-01-05  118.320000  28.980000  38.077499  39.304001  118.860001   \n",
              "2017-01-06  120.029999  29.195000  39.118000  39.763000  120.980003   \n",
              "2017-01-09  123.040001  29.487499  39.900002  40.320000  123.550003   \n",
              "2017-01-10  124.279999  29.692499  39.830002  40.393002  124.820000   \n",
              "2017-01-11  124.059998  29.684999  39.682999  40.250000  124.349998   \n",
              "2017-01-12  124.800003  29.725000  40.015499  40.356998  125.610001   \n",
              "2017-01-13  127.370003  29.777500  40.716000  40.374001  127.489998   \n",
              "2017-01-17  127.400002  29.584999  40.785000  40.354000  128.039993   \n",
              "\n",
              "               Volume                                 \n",
              "                 AAPL       AMZN      GOOG      META  \n",
              "Date                                                  \n",
              "2017-01-03  115127600   70422000  33146000  20663900  \n",
              "2017-01-04   84472400   50210000  21460000  19630900  \n",
              "2017-01-05   88774400  116602000  26704000  19492200  \n",
              "2017-01-06  127007600  119724000  32804000  28545300  \n",
              "2017-01-09  134247600   68922000  25492000  22880400  \n",
              "2017-01-10   97848400   51168000  23536000  17324600  \n",
              "2017-01-11  110354400   59856000  21318000  18356500  \n",
              "2017-01-12  108344800   97478000  27062000  18653900  \n",
              "2017-01-13  104447600   75838000  21984000  24884300  \n",
              "2017-01-17  137759200   73410000  27242000  15294500  \n",
              "\n",
              "[10 rows x 24 columns]"
            ]
          },
          "execution_count": 22,
          "metadata": {},
          "output_type": "execute_result"
        }
      ],
      "source": [
        "faang_df=yf.download(\"AMZN AAPL GOOG META\", start=\"2017-01-01\", end=\"2018-01-01\")\n",
        "faang_df.head(10)"
      ]
    },
    {
      "cell_type": "markdown",
      "metadata": {
        "id": "VNEx8FwWFhDh"
      },
      "source": [
        "Notice that the table above has information grouped by adj close, close, low and high instead of ticker symbols. If you want, run the code below to see how you can group the table by ticker tymbol instead."
      ]
    },
    {
      "cell_type": "code",
      "execution_count": 23,
      "metadata": {
        "colab": {
          "base_uri": "https://localhost:8080/"
        },
        "id": "G7rIo_u2_W6R",
        "outputId": "d95eb1cc-0877-40eb-e494-6033ced27ce6"
      },
      "outputs": [
        {
          "ename": "TypeError",
          "evalue": "download() got an unexpected keyword argument 'groupby'",
          "output_type": "error",
          "traceback": [
            "\u001b[1;31m---------------------------------------------------------------------------\u001b[0m",
            "\u001b[1;31mTypeError\u001b[0m                                 Traceback (most recent call last)",
            "\u001b[1;32mc:\\Users\\mjdel\\Downloads\\Intro_to_Python_MISSA_X_FS_X_AMI.ipynb Cell 49\u001b[0m line \u001b[0;36m1\n\u001b[1;32m----> <a href='vscode-notebook-cell:/c%3A/Users/mjdel/Downloads/Intro_to_Python_MISSA_X_FS_X_AMI.ipynb#X66sZmlsZQ%3D%3D?line=0'>1</a>\u001b[0m faang_df2\u001b[39m=\u001b[39myf\u001b[39m.\u001b[39mdownload(\u001b[39m\"\u001b[39m\u001b[39mAMZN AAPL GOOG META\u001b[39m\u001b[39m\"\u001b[39m, start\u001b[39m=\u001b[39m\u001b[39m\"\u001b[39m\u001b[39m2017-01-01\u001b[39m\u001b[39m\"\u001b[39m, end\u001b[39m=\u001b[39m\u001b[39m\"\u001b[39m\u001b[39m2018-01-01\u001b[39m\u001b[39m\"\u001b[39m, groupby\u001b[39m=\u001b[39m\u001b[39m'\u001b[39m\u001b[39mtickers\u001b[39m\u001b[39m'\u001b[39m)\n\u001b[0;32m      <a href='vscode-notebook-cell:/c%3A/Users/mjdel/Downloads/Intro_to_Python_MISSA_X_FS_X_AMI.ipynb#X66sZmlsZQ%3D%3D?line=1'>2</a>\u001b[0m faang_df2\u001b[39m.\u001b[39mhead(\u001b[39m10\u001b[39m)\n",
            "File \u001b[1;32mc:\\Users\\mjdel\\anaconda3\\Lib\\site-packages\\yfinance\\utils.py:114\u001b[0m, in \u001b[0;36mlog_indent_decorator.<locals>.wrapper\u001b[1;34m(*args, **kwargs)\u001b[0m\n\u001b[0;32m    111\u001b[0m logger\u001b[39m.\u001b[39mdebug(\u001b[39mf\u001b[39m\u001b[39m'\u001b[39m\u001b[39mEntering \u001b[39m\u001b[39m{\u001b[39;00mfunc\u001b[39m.\u001b[39m\u001b[39m__name__\u001b[39m\u001b[39m}\u001b[39;00m\u001b[39m()\u001b[39m\u001b[39m'\u001b[39m)\n\u001b[0;32m    113\u001b[0m \u001b[39mwith\u001b[39;00m IndentationContext():\n\u001b[1;32m--> 114\u001b[0m     result \u001b[39m=\u001b[39m func(\u001b[39m*\u001b[39margs, \u001b[39m*\u001b[39m\u001b[39m*\u001b[39mkwargs)\n\u001b[0;32m    116\u001b[0m logger\u001b[39m.\u001b[39mdebug(\u001b[39mf\u001b[39m\u001b[39m'\u001b[39m\u001b[39mExiting \u001b[39m\u001b[39m{\u001b[39;00mfunc\u001b[39m.\u001b[39m\u001b[39m__name__\u001b[39m\u001b[39m}\u001b[39;00m\u001b[39m()\u001b[39m\u001b[39m'\u001b[39m)\n\u001b[0;32m    117\u001b[0m \u001b[39mreturn\u001b[39;00m result\n",
            "\u001b[1;31mTypeError\u001b[0m: download() got an unexpected keyword argument 'groupby'"
          ]
        }
      ],
      "source": [
        "faang_df2=yf.download(\"AMZN AAPL GOOG META\", start=\"2017-01-01\", end=\"2018-01-01\", groupby='tickers')\n",
        "faang_df2.head(10)"
      ]
    },
    {
      "cell_type": "markdown",
      "metadata": {
        "id": "9lI9U17VE0Qe"
      },
      "source": [
        "Notice that calling the pandas columns function for both of these don't return a clean list. Instead they have two key values for each item in the column. "
      ]
    },
    {
      "cell_type": "code",
      "execution_count": 24,
      "metadata": {
        "colab": {
          "base_uri": "https://localhost:8080/"
        },
        "id": "Fson6FZJ_lfd",
        "outputId": "61c391d2-f4a3-402c-ff94-a094e3d946f5"
      },
      "outputs": [
        {
          "data": {
            "text/plain": [
              "MultiIndex([('Adj Close', 'AAPL'),\n",
              "            ('Adj Close', 'AMZN'),\n",
              "            ('Adj Close', 'GOOG'),\n",
              "            ('Adj Close', 'META'),\n",
              "            (    'Close', 'AAPL'),\n",
              "            (    'Close', 'AMZN'),\n",
              "            (    'Close', 'GOOG'),\n",
              "            (    'Close', 'META'),\n",
              "            (     'High', 'AAPL'),\n",
              "            (     'High', 'AMZN'),\n",
              "            (     'High', 'GOOG'),\n",
              "            (     'High', 'META'),\n",
              "            (      'Low', 'AAPL'),\n",
              "            (      'Low', 'AMZN'),\n",
              "            (      'Low', 'GOOG'),\n",
              "            (      'Low', 'META'),\n",
              "            (     'Open', 'AAPL'),\n",
              "            (     'Open', 'AMZN'),\n",
              "            (     'Open', 'GOOG'),\n",
              "            (     'Open', 'META'),\n",
              "            (   'Volume', 'AAPL'),\n",
              "            (   'Volume', 'AMZN'),\n",
              "            (   'Volume', 'GOOG'),\n",
              "            (   'Volume', 'META')],\n",
              "           )"
            ]
          },
          "execution_count": 24,
          "metadata": {},
          "output_type": "execute_result"
        }
      ],
      "source": [
        "faang_df.columns"
      ]
    },
    {
      "cell_type": "markdown",
      "metadata": {
        "id": "tcIMq3RSGhMk"
      },
      "source": [
        "Let's make this more easily understandable by saving all of the Close information into a variable and see what it looks like now. "
      ]
    },
    {
      "cell_type": "code",
      "execution_count": 25,
      "metadata": {
        "colab": {
          "base_uri": "https://localhost:8080/",
          "height": 455
        },
        "id": "YNLyN_Tm_w8D",
        "outputId": "e3a7cb26-9689-40bf-b084-bc35257a3237"
      },
      "outputs": [
        {
          "data": {
            "text/html": [
              "<div>\n",
              "<style scoped>\n",
              "    .dataframe tbody tr th:only-of-type {\n",
              "        vertical-align: middle;\n",
              "    }\n",
              "\n",
              "    .dataframe tbody tr th {\n",
              "        vertical-align: top;\n",
              "    }\n",
              "\n",
              "    .dataframe thead th {\n",
              "        text-align: right;\n",
              "    }\n",
              "</style>\n",
              "<table border=\"1\" class=\"dataframe\">\n",
              "  <thead>\n",
              "    <tr style=\"text-align: right;\">\n",
              "      <th></th>\n",
              "      <th>AAPL</th>\n",
              "      <th>AMZN</th>\n",
              "      <th>GOOG</th>\n",
              "      <th>META</th>\n",
              "    </tr>\n",
              "    <tr>\n",
              "      <th>Date</th>\n",
              "      <th></th>\n",
              "      <th></th>\n",
              "      <th></th>\n",
              "      <th></th>\n",
              "    </tr>\n",
              "  </thead>\n",
              "  <tbody>\n",
              "    <tr>\n",
              "      <th>2017-01-03</th>\n",
              "      <td>29.037500</td>\n",
              "      <td>37.683498</td>\n",
              "      <td>39.306999</td>\n",
              "      <td>116.860001</td>\n",
              "    </tr>\n",
              "    <tr>\n",
              "      <th>2017-01-04</th>\n",
              "      <td>29.004999</td>\n",
              "      <td>37.859001</td>\n",
              "      <td>39.345001</td>\n",
              "      <td>118.690002</td>\n",
              "    </tr>\n",
              "    <tr>\n",
              "      <th>2017-01-05</th>\n",
              "      <td>29.152500</td>\n",
              "      <td>39.022499</td>\n",
              "      <td>39.701000</td>\n",
              "      <td>120.669998</td>\n",
              "    </tr>\n",
              "    <tr>\n",
              "      <th>2017-01-06</th>\n",
              "      <td>29.477501</td>\n",
              "      <td>39.799500</td>\n",
              "      <td>40.307499</td>\n",
              "      <td>123.410004</td>\n",
              "    </tr>\n",
              "    <tr>\n",
              "      <th>2017-01-09</th>\n",
              "      <td>29.747499</td>\n",
              "      <td>39.846001</td>\n",
              "      <td>40.332500</td>\n",
              "      <td>124.900002</td>\n",
              "    </tr>\n",
              "    <tr>\n",
              "      <th>...</th>\n",
              "      <td>...</td>\n",
              "      <td>...</td>\n",
              "      <td>...</td>\n",
              "      <td>...</td>\n",
              "    </tr>\n",
              "    <tr>\n",
              "      <th>2017-12-22</th>\n",
              "      <td>43.752499</td>\n",
              "      <td>58.417999</td>\n",
              "      <td>53.006001</td>\n",
              "      <td>177.199997</td>\n",
              "    </tr>\n",
              "    <tr>\n",
              "      <th>2017-12-26</th>\n",
              "      <td>42.642502</td>\n",
              "      <td>58.838001</td>\n",
              "      <td>52.837002</td>\n",
              "      <td>175.990005</td>\n",
              "    </tr>\n",
              "    <tr>\n",
              "      <th>2017-12-27</th>\n",
              "      <td>42.650002</td>\n",
              "      <td>59.112999</td>\n",
              "      <td>52.468498</td>\n",
              "      <td>177.619995</td>\n",
              "    </tr>\n",
              "    <tr>\n",
              "      <th>2017-12-28</th>\n",
              "      <td>42.770000</td>\n",
              "      <td>59.305000</td>\n",
              "      <td>52.407001</td>\n",
              "      <td>177.919998</td>\n",
              "    </tr>\n",
              "    <tr>\n",
              "      <th>2017-12-29</th>\n",
              "      <td>42.307499</td>\n",
              "      <td>58.473499</td>\n",
              "      <td>52.320000</td>\n",
              "      <td>176.460007</td>\n",
              "    </tr>\n",
              "  </tbody>\n",
              "</table>\n",
              "<p>251 rows × 4 columns</p>\n",
              "</div>"
            ],
            "text/plain": [
              "                 AAPL       AMZN       GOOG        META\n",
              "Date                                                   \n",
              "2017-01-03  29.037500  37.683498  39.306999  116.860001\n",
              "2017-01-04  29.004999  37.859001  39.345001  118.690002\n",
              "2017-01-05  29.152500  39.022499  39.701000  120.669998\n",
              "2017-01-06  29.477501  39.799500  40.307499  123.410004\n",
              "2017-01-09  29.747499  39.846001  40.332500  124.900002\n",
              "...               ...        ...        ...         ...\n",
              "2017-12-22  43.752499  58.417999  53.006001  177.199997\n",
              "2017-12-26  42.642502  58.838001  52.837002  175.990005\n",
              "2017-12-27  42.650002  59.112999  52.468498  177.619995\n",
              "2017-12-28  42.770000  59.305000  52.407001  177.919998\n",
              "2017-12-29  42.307499  58.473499  52.320000  176.460007\n",
              "\n",
              "[251 rows x 4 columns]"
            ]
          },
          "execution_count": 25,
          "metadata": {},
          "output_type": "execute_result"
        }
      ],
      "source": [
        "close=faang_df.Close\n",
        "close"
      ]
    },
    {
      "cell_type": "markdown",
      "metadata": {
        "id": "pzZd8qTDGvE0"
      },
      "source": [
        "Let's get some descriptive statistics on this dataframe. Describe gives us statistical information that you need in order to analyze datasets, but we can go over this more in a different workshop. "
      ]
    },
    {
      "cell_type": "code",
      "execution_count": 26,
      "metadata": {
        "colab": {
          "base_uri": "https://localhost:8080/",
          "height": 300
        },
        "id": "cTVBiYC0__My",
        "outputId": "f2305963-4efc-4f42-b4b1-01be714172c7"
      },
      "outputs": [
        {
          "data": {
            "text/html": [
              "<div>\n",
              "<style scoped>\n",
              "    .dataframe tbody tr th:only-of-type {\n",
              "        vertical-align: middle;\n",
              "    }\n",
              "\n",
              "    .dataframe tbody tr th {\n",
              "        vertical-align: top;\n",
              "    }\n",
              "\n",
              "    .dataframe thead th {\n",
              "        text-align: right;\n",
              "    }\n",
              "</style>\n",
              "<table border=\"1\" class=\"dataframe\">\n",
              "  <thead>\n",
              "    <tr style=\"text-align: right;\">\n",
              "      <th></th>\n",
              "      <th>AAPL</th>\n",
              "      <th>AMZN</th>\n",
              "      <th>GOOG</th>\n",
              "      <th>META</th>\n",
              "    </tr>\n",
              "  </thead>\n",
              "  <tbody>\n",
              "    <tr>\n",
              "      <th>count</th>\n",
              "      <td>251.000000</td>\n",
              "      <td>251.000000</td>\n",
              "      <td>251.000000</td>\n",
              "      <td>251.000000</td>\n",
              "    </tr>\n",
              "    <tr>\n",
              "      <th>mean</th>\n",
              "      <td>37.637769</td>\n",
              "      <td>48.408351</td>\n",
              "      <td>46.089042</td>\n",
              "      <td>156.576175</td>\n",
              "    </tr>\n",
              "    <tr>\n",
              "      <th>std</th>\n",
              "      <td>3.655298</td>\n",
              "      <td>5.329010</td>\n",
              "      <td>3.861628</td>\n",
              "      <td>17.379058</td>\n",
              "    </tr>\n",
              "    <tr>\n",
              "      <th>min</th>\n",
              "      <td>29.004999</td>\n",
              "      <td>37.683498</td>\n",
              "      <td>39.306999</td>\n",
              "      <td>116.860001</td>\n",
              "    </tr>\n",
              "    <tr>\n",
              "      <th>25%</th>\n",
              "      <td>35.453751</td>\n",
              "      <td>44.451250</td>\n",
              "      <td>41.849751</td>\n",
              "      <td>141.000000</td>\n",
              "    </tr>\n",
              "    <tr>\n",
              "      <th>50%</th>\n",
              "      <td>38.185001</td>\n",
              "      <td>48.399502</td>\n",
              "      <td>46.478500</td>\n",
              "      <td>153.610001</td>\n",
              "    </tr>\n",
              "    <tr>\n",
              "      <th>75%</th>\n",
              "      <td>39.963751</td>\n",
              "      <td>50.148500</td>\n",
              "      <td>48.638000</td>\n",
              "      <td>171.974998</td>\n",
              "    </tr>\n",
              "    <tr>\n",
              "      <th>max</th>\n",
              "      <td>44.105000</td>\n",
              "      <td>59.791500</td>\n",
              "      <td>53.856998</td>\n",
              "      <td>183.029999</td>\n",
              "    </tr>\n",
              "  </tbody>\n",
              "</table>\n",
              "</div>"
            ],
            "text/plain": [
              "             AAPL        AMZN        GOOG        META\n",
              "count  251.000000  251.000000  251.000000  251.000000\n",
              "mean    37.637769   48.408351   46.089042  156.576175\n",
              "std      3.655298    5.329010    3.861628   17.379058\n",
              "min     29.004999   37.683498   39.306999  116.860001\n",
              "25%     35.453751   44.451250   41.849751  141.000000\n",
              "50%     38.185001   48.399502   46.478500  153.610001\n",
              "75%     39.963751   50.148500   48.638000  171.974998\n",
              "max     44.105000   59.791500   53.856998  183.029999"
            ]
          },
          "execution_count": 26,
          "metadata": {},
          "output_type": "execute_result"
        }
      ],
      "source": [
        "close.describe()"
      ]
    },
    {
      "cell_type": "markdown",
      "metadata": {
        "id": "CZ1J9s4gHHA9"
      },
      "source": [
        "To create a graph of close, run the following code and compare the four companies that we put in the list. Fig size changes the size of the graph, if you don't want to make it bigger, don't put figsize in the parentheses. "
      ]
    },
    {
      "cell_type": "code",
      "execution_count": 27,
      "metadata": {
        "colab": {
          "base_uri": "https://localhost:8080/",
          "height": 491
        },
        "id": "FDU7LaOSAQkG",
        "outputId": "b23c6c37-63d5-4210-c0c0-12cfaa918011"
      },
      "outputs": [
        {
          "data": {
            "text/plain": [
              "<Axes: xlabel='Date'>"
            ]
          },
          "execution_count": 27,
          "metadata": {},
          "output_type": "execute_result"
        },
        {
          "data": {
            "image/png": "[encoded data removed]",
            "text/plain": [
              "<Figure size 1200x800 with 1 Axes>"
            ]
          },
          "metadata": {},
          "output_type": "display_data"
        }
      ],
      "source": [
        "close.plot(figsize=(12,8))"
      ]
    },
    {
      "cell_type": "markdown",
      "metadata": {
        "id": "0A9eI1lV2stt"
      },
      "source": []
    }
  ],
  "metadata": {
    "colab": {
      "provenance": []
    },
    "kernelspec": {
      "display_name": "Python 3",
      "name": "python3"
    },
    "language_info": {
      "codemirror_mode": {
        "name": "ipython",
        "version": 3
      },
      "file_extension": ".py",
      "mimetype": "text/x-python",
      "name": "python",
      "nbconvert_exporter": "python",
      "pygments_lexer": "ipython3",
      "version": "3.11.4"
    }
  },
  "nbformat": 4,
  "nbformat_minor": 0
}
